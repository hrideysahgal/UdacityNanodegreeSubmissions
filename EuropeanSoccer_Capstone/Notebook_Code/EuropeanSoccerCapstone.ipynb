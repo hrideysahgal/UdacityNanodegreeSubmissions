{
 "cells": [
  {
   "cell_type": "markdown",
   "metadata": {
    "collapsed": true
   },
   "source": [
    "# IDEAS\n",
    "\n",
    "### Inspiring Kernels\n",
    "* https://www.kaggle.com/harvinderwazir/match-outcome-prediction-in-football\n",
    "\n",
    "* https://www.kaggle.com/stvrdo/goals-ratings-simulations/notebook\n",
    "\n",
    "* https://www.kaggle.com/petehodge/epl-weekly-predicting/notebook\n",
    "    \n",
    "### VISUALIZATIONS - MUY IMPORTANTE\n",
    "[Seventeen Ways to Map Data in Kaggle kernels](http://blog.kaggle.com/2016/11/30/seventeen-ways-to-map-data-in-kaggle-kernels/) \n",
    "\n",
    "### Reviewer's idea for assessing a player's capability.\n",
    "\n",
    " The main service they provided is advice to teams on whether or not a player should be bought or sold, not sure if this would be of any help, one of they key concepts they discussed was coming up with a metric on players on how much of an impact the player makes which was calculated by figuring out a team's performance with and without that particular player while taking into account other players and different circumstances.\n",
    "**Background**\n",
    "Players get injured all the time, with managers complaning about injuries (insert link). Through this part of the code, I wish to answer this queation: ***How does the team fare if player X is out due to injury for T% of the season?***. For eg. : How does Barcelona do in season 2011-12, had Messi not been there?\n"
   ]
  },
  {
   "cell_type": "markdown",
   "metadata": {},
   "source": [
    "## Background\n",
    "\n",
    "The dataset is available at https://www.kaggle.com/hugomathien/soccer/data. \n",
    "\n",
    "\n",
    "# TYPE FROM PROPOSAL\n"
   ]
  },
  {
   "cell_type": "markdown",
   "metadata": {},
   "source": [
    "## Data Preprocessing\n",
    "\n",
    "### Type of data\n",
    "\n",
    "The data is in the form of a sqlite database. \n",
    "\n",
    "### About the data\n",
    "\n",
    "The data contains the following tables:\n",
    "\n",
    "*** Country, League, Match, Player, Player_Attributes, Team, Team_Attributes***\n",
    "\n",
    "The tables *country, league, player and team* are lookup tables. For eg."
   ]
  },
  {
   "cell_type": "markdown",
   "metadata": {},
   "source": [
    "### Reading data, performing joins\n",
    "The data is in the zipfile 'soccer.zip', and is in the form of a sqlite database."
   ]
  },
  {
   "cell_type": "markdown",
   "metadata": {},
   "source": [
    "### Handling Bad Data"
   ]
  },
  {
   "cell_type": "markdown",
   "metadata": {},
   "source": [
    "## Feature Selection"
   ]
  },
  {
   "cell_type": "markdown",
   "metadata": {},
   "source": [
    "## Model Fitting and Optimization"
   ]
  },
  {
   "cell_type": "markdown",
   "metadata": {},
   "source": [
    "## Prediction Results and Optimizations"
   ]
  },
  {
   "cell_type": "markdown",
   "metadata": {},
   "source": [
    "## Conclusion"
   ]
  }
 ],
 "metadata": {
  "kernelspec": {
   "display_name": "Python 2",
   "language": "python",
   "name": "python2"
  },
  "language_info": {
   "codemirror_mode": {
    "name": "ipython",
    "version": 2
   },
   "file_extension": ".py",
   "mimetype": "text/x-python",
   "name": "python",
   "nbconvert_exporter": "python",
   "pygments_lexer": "ipython2",
   "version": "2.7.13"
  }
 },
 "nbformat": 4,
 "nbformat_minor": 2
}
