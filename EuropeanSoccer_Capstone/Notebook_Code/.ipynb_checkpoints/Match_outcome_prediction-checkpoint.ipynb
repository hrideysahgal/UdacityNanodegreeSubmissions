{
 "cells": [
  {
   "cell_type": "markdown",
   "metadata": {
    "collapsed": true
   },
   "source": [
    "# IDEAS\n",
    "\n",
    "### Inspiring Kernels\n",
    "* https://www.kaggle.com/harvinderwazir/match-outcome-prediction-in-football\n",
    "\n",
    "* https://www.kaggle.com/stvrdo/goals-ratings-simulations/notebook\n",
    "\n",
    "* https://www.kaggle.com/petehodge/epl-weekly-predicting/notebook\n",
    "    \n",
    "### VISUALIZATIONS - MUY IMPORTANTE\n",
    "[Seventeen Ways to Map Data in Kaggle kernels](http://blog.kaggle.com/2016/11/30/seventeen-ways-to-map-data-in-kaggle-kernels/) \n"
   ]
  },
  {
   "cell_type": "markdown",
   "metadata": {},
   "source": [
    "## Background\n",
    "\n",
    "\n",
    "# TYPE FROM PROPOSAL\n"
   ]
  },
  {
   "cell_type": "markdown",
   "metadata": {},
   "source": [
    "# Data Preprocessing\n",
    "\n",
    "### Type of data\n",
    "\n",
    "The dataset is available at https://www.kaggle.com/hugomathien/soccer/data. The data is in the form of a sqlite database. \n",
    "\n",
    "### About the data\n",
    "\n",
    "The data contains the following tables:\n",
    "\n",
    "*** Country, League, Match, Player, Player_Attributes, Team, Team_Attributes***\n",
    "\n",
    "The tables *country, league, player and team* are lookup tables. Lets focus on the table with attributes - Player_Attributes, Team_Attributes and Match.\n",
    "In the following code cell, I read the SQLITE table and display the first record of all these three tables."
   ]
  },
  {
   "cell_type": "code",
   "execution_count": 7,
   "metadata": {
    "scrolled": false
   },
   "outputs": [
    {
     "name": "stdout",
     "output_type": "stream",
     "text": [
      "Players\n"
     ]
    },
    {
     "data": {
      "text/html": [
       "<div>\n",
       "<style>\n",
       "    .dataframe thead tr:only-child th {\n",
       "        text-align: right;\n",
       "    }\n",
       "\n",
       "    .dataframe thead th {\n",
       "        text-align: left;\n",
       "    }\n",
       "\n",
       "    .dataframe tbody tr th {\n",
       "        vertical-align: top;\n",
       "    }\n",
       "</style>\n",
       "<table border=\"1\" class=\"dataframe\">\n",
       "  <thead>\n",
       "    <tr style=\"text-align: right;\">\n",
       "      <th></th>\n",
       "      <th>id</th>\n",
       "      <th>player_fifa_api_id</th>\n",
       "      <th>player_api_id</th>\n",
       "      <th>date</th>\n",
       "      <th>overall_rating</th>\n",
       "      <th>potential</th>\n",
       "      <th>preferred_foot</th>\n",
       "      <th>attacking_work_rate</th>\n",
       "      <th>defensive_work_rate</th>\n",
       "      <th>crossing</th>\n",
       "      <th>...</th>\n",
       "      <th>vision</th>\n",
       "      <th>penalties</th>\n",
       "      <th>marking</th>\n",
       "      <th>standing_tackle</th>\n",
       "      <th>sliding_tackle</th>\n",
       "      <th>gk_diving</th>\n",
       "      <th>gk_handling</th>\n",
       "      <th>gk_kicking</th>\n",
       "      <th>gk_positioning</th>\n",
       "      <th>gk_reflexes</th>\n",
       "    </tr>\n",
       "  </thead>\n",
       "  <tbody>\n",
       "    <tr>\n",
       "      <th>0</th>\n",
       "      <td>1</td>\n",
       "      <td>218353</td>\n",
       "      <td>505942</td>\n",
       "      <td>2016-02-18 00:00:00</td>\n",
       "      <td>67.0</td>\n",
       "      <td>71.0</td>\n",
       "      <td>right</td>\n",
       "      <td>medium</td>\n",
       "      <td>medium</td>\n",
       "      <td>49.0</td>\n",
       "      <td>...</td>\n",
       "      <td>54.0</td>\n",
       "      <td>48.0</td>\n",
       "      <td>65.0</td>\n",
       "      <td>69.0</td>\n",
       "      <td>69.0</td>\n",
       "      <td>6.0</td>\n",
       "      <td>11.0</td>\n",
       "      <td>10.0</td>\n",
       "      <td>8.0</td>\n",
       "      <td>8.0</td>\n",
       "    </tr>\n",
       "  </tbody>\n",
       "</table>\n",
       "<p>1 rows × 42 columns</p>\n",
       "</div>"
      ],
      "text/plain": [
       "   id  player_fifa_api_id  player_api_id                 date  overall_rating  \\\n",
       "0   1              218353         505942  2016-02-18 00:00:00            67.0   \n",
       "\n",
       "   potential preferred_foot attacking_work_rate defensive_work_rate  crossing  \\\n",
       "0       71.0          right              medium              medium      49.0   \n",
       "\n",
       "      ...       vision  penalties  marking  standing_tackle  sliding_tackle  \\\n",
       "0     ...         54.0       48.0     65.0             69.0            69.0   \n",
       "\n",
       "   gk_diving  gk_handling  gk_kicking  gk_positioning  gk_reflexes  \n",
       "0        6.0         11.0        10.0             8.0          8.0  \n",
       "\n",
       "[1 rows x 42 columns]"
      ]
     },
     "metadata": {},
     "output_type": "display_data"
    },
    {
     "name": "stdout",
     "output_type": "stream",
     "text": [
      "Teams\n"
     ]
    },
    {
     "data": {
      "text/html": [
       "<div>\n",
       "<style>\n",
       "    .dataframe thead tr:only-child th {\n",
       "        text-align: right;\n",
       "    }\n",
       "\n",
       "    .dataframe thead th {\n",
       "        text-align: left;\n",
       "    }\n",
       "\n",
       "    .dataframe tbody tr th {\n",
       "        vertical-align: top;\n",
       "    }\n",
       "</style>\n",
       "<table border=\"1\" class=\"dataframe\">\n",
       "  <thead>\n",
       "    <tr style=\"text-align: right;\">\n",
       "      <th></th>\n",
       "      <th>id</th>\n",
       "      <th>team_fifa_api_id</th>\n",
       "      <th>team_api_id</th>\n",
       "      <th>date</th>\n",
       "      <th>buildUpPlaySpeed</th>\n",
       "      <th>buildUpPlaySpeedClass</th>\n",
       "      <th>buildUpPlayDribbling</th>\n",
       "      <th>buildUpPlayDribblingClass</th>\n",
       "      <th>buildUpPlayPassing</th>\n",
       "      <th>buildUpPlayPassingClass</th>\n",
       "      <th>...</th>\n",
       "      <th>chanceCreationShooting</th>\n",
       "      <th>chanceCreationShootingClass</th>\n",
       "      <th>chanceCreationPositioningClass</th>\n",
       "      <th>defencePressure</th>\n",
       "      <th>defencePressureClass</th>\n",
       "      <th>defenceAggression</th>\n",
       "      <th>defenceAggressionClass</th>\n",
       "      <th>defenceTeamWidth</th>\n",
       "      <th>defenceTeamWidthClass</th>\n",
       "      <th>defenceDefenderLineClass</th>\n",
       "    </tr>\n",
       "  </thead>\n",
       "  <tbody>\n",
       "    <tr>\n",
       "      <th>0</th>\n",
       "      <td>1</td>\n",
       "      <td>434</td>\n",
       "      <td>9930</td>\n",
       "      <td>2010-02-22 00:00:00</td>\n",
       "      <td>60</td>\n",
       "      <td>Balanced</td>\n",
       "      <td>NaN</td>\n",
       "      <td>Little</td>\n",
       "      <td>50</td>\n",
       "      <td>Mixed</td>\n",
       "      <td>...</td>\n",
       "      <td>55</td>\n",
       "      <td>Normal</td>\n",
       "      <td>Organised</td>\n",
       "      <td>50</td>\n",
       "      <td>Medium</td>\n",
       "      <td>55</td>\n",
       "      <td>Press</td>\n",
       "      <td>45</td>\n",
       "      <td>Normal</td>\n",
       "      <td>Cover</td>\n",
       "    </tr>\n",
       "  </tbody>\n",
       "</table>\n",
       "<p>1 rows × 25 columns</p>\n",
       "</div>"
      ],
      "text/plain": [
       "   id  team_fifa_api_id  team_api_id                 date  buildUpPlaySpeed  \\\n",
       "0   1               434         9930  2010-02-22 00:00:00                60   \n",
       "\n",
       "  buildUpPlaySpeedClass  buildUpPlayDribbling buildUpPlayDribblingClass  \\\n",
       "0              Balanced                   NaN                    Little   \n",
       "\n",
       "   buildUpPlayPassing buildUpPlayPassingClass           ...             \\\n",
       "0                  50                   Mixed           ...              \n",
       "\n",
       "  chanceCreationShooting  chanceCreationShootingClass  \\\n",
       "0                     55                       Normal   \n",
       "\n",
       "  chanceCreationPositioningClass  defencePressure defencePressureClass  \\\n",
       "0                      Organised               50               Medium   \n",
       "\n",
       "   defenceAggression defenceAggressionClass defenceTeamWidth  \\\n",
       "0                 55                  Press               45   \n",
       "\n",
       "   defenceTeamWidthClass defenceDefenderLineClass  \n",
       "0                 Normal                    Cover  \n",
       "\n",
       "[1 rows x 25 columns]"
      ]
     },
     "metadata": {},
     "output_type": "display_data"
    },
    {
     "name": "stdout",
     "output_type": "stream",
     "text": [
      "Matches\n"
     ]
    },
    {
     "data": {
      "text/html": [
       "<div>\n",
       "<style>\n",
       "    .dataframe thead tr:only-child th {\n",
       "        text-align: right;\n",
       "    }\n",
       "\n",
       "    .dataframe thead th {\n",
       "        text-align: left;\n",
       "    }\n",
       "\n",
       "    .dataframe tbody tr th {\n",
       "        vertical-align: top;\n",
       "    }\n",
       "</style>\n",
       "<table border=\"1\" class=\"dataframe\">\n",
       "  <thead>\n",
       "    <tr style=\"text-align: right;\">\n",
       "      <th></th>\n",
       "      <th>id</th>\n",
       "      <th>country_id</th>\n",
       "      <th>league_id</th>\n",
       "      <th>season</th>\n",
       "      <th>stage</th>\n",
       "      <th>date</th>\n",
       "      <th>match_api_id</th>\n",
       "      <th>home_team_api_id</th>\n",
       "      <th>away_team_api_id</th>\n",
       "      <th>home_team_goal</th>\n",
       "      <th>...</th>\n",
       "      <th>SJA</th>\n",
       "      <th>VCH</th>\n",
       "      <th>VCD</th>\n",
       "      <th>VCA</th>\n",
       "      <th>GBH</th>\n",
       "      <th>GBD</th>\n",
       "      <th>GBA</th>\n",
       "      <th>BSH</th>\n",
       "      <th>BSD</th>\n",
       "      <th>BSA</th>\n",
       "    </tr>\n",
       "  </thead>\n",
       "  <tbody>\n",
       "    <tr>\n",
       "      <th>0</th>\n",
       "      <td>1</td>\n",
       "      <td>1</td>\n",
       "      <td>1</td>\n",
       "      <td>2008/2009</td>\n",
       "      <td>1</td>\n",
       "      <td>2008-08-17 00:00:00</td>\n",
       "      <td>492473</td>\n",
       "      <td>9987</td>\n",
       "      <td>9993</td>\n",
       "      <td>1</td>\n",
       "      <td>...</td>\n",
       "      <td>4.0</td>\n",
       "      <td>1.65</td>\n",
       "      <td>3.4</td>\n",
       "      <td>4.5</td>\n",
       "      <td>1.78</td>\n",
       "      <td>3.25</td>\n",
       "      <td>4.0</td>\n",
       "      <td>1.73</td>\n",
       "      <td>3.4</td>\n",
       "      <td>4.2</td>\n",
       "    </tr>\n",
       "  </tbody>\n",
       "</table>\n",
       "<p>1 rows × 115 columns</p>\n",
       "</div>"
      ],
      "text/plain": [
       "   id  country_id  league_id     season  stage                 date  \\\n",
       "0   1           1          1  2008/2009      1  2008-08-17 00:00:00   \n",
       "\n",
       "   match_api_id  home_team_api_id  away_team_api_id  home_team_goal ...   SJA  \\\n",
       "0        492473              9987              9993               1 ...   4.0   \n",
       "\n",
       "    VCH  VCD  VCA   GBH   GBD  GBA   BSH  BSD  BSA  \n",
       "0  1.65  3.4  4.5  1.78  3.25  4.0  1.73  3.4  4.2  \n",
       "\n",
       "[1 rows x 115 columns]"
      ]
     },
     "metadata": {},
     "output_type": "display_data"
    }
   ],
   "source": [
    "# Import libraries necessary for this project\n",
    "import numpy as np\n",
    "import pandas as pd\n",
    "from time import time\n",
    "from IPython.display import display # Allows the use of display() for DataFrames\n",
    "import data_preprocess as dp\n",
    "# Import supplementary visualization code visuals.py, renamed as visuals_udacity.py. I have taken this code from the Udacity\n",
    "# machine learning projects\n",
    "from Utils import *\n",
    "\n",
    "# Pretty display for notebooks\n",
    "%matplotlib inline\n",
    "conn = dp.uncompress_and_open_sqlite()\n",
    "print (\"Players\")\n",
    "players_df = dp.sql_to_dataframe(conn, select_all_query_table(\"Player_Attributes\"))\n",
    "display(players_df.head(n=1))\n",
    "print (\"Teams\")\n",
    "teams_df = dp.sql_to_dataframe(conn, select_all_query_table(\"Team_Attributes\"))\n",
    "display(teams_df.head(n=1))\n",
    "print (\"Matches\")\n",
    "match_df = dp.sql_to_dataframe(conn, select_all_query_table(\"Match\"))\n",
    "display(match_df.head(n=1))"
   ]
  },
  {
   "cell_type": "markdown",
   "metadata": {},
   "source": [
    "### Defining the data features and labels\n",
    "* Players : "
   ]
  },
  {
   "cell_type": "code",
   "execution_count": 2,
   "metadata": {},
   "outputs": [
    {
     "data": {
      "text/html": [
       "<div>\n",
       "<style>\n",
       "    .dataframe thead tr:only-child th {\n",
       "        text-align: right;\n",
       "    }\n",
       "\n",
       "    .dataframe thead th {\n",
       "        text-align: left;\n",
       "    }\n",
       "\n",
       "    .dataframe tbody tr th {\n",
       "        vertical-align: top;\n",
       "    }\n",
       "</style>\n",
       "<table border=\"1\" class=\"dataframe\">\n",
       "  <thead>\n",
       "    <tr style=\"text-align: right;\">\n",
       "      <th></th>\n",
       "      <th>preferred_foot</th>\n",
       "      <th>attacking_work_rate</th>\n",
       "      <th>defensive_work_rate</th>\n",
       "      <th>crossing</th>\n",
       "      <th>finishing</th>\n",
       "      <th>heading_accuracy</th>\n",
       "      <th>short_passing</th>\n",
       "      <th>volleys</th>\n",
       "      <th>dribbling</th>\n",
       "      <th>curve</th>\n",
       "      <th>...</th>\n",
       "      <th>vision</th>\n",
       "      <th>penalties</th>\n",
       "      <th>marking</th>\n",
       "      <th>standing_tackle</th>\n",
       "      <th>sliding_tackle</th>\n",
       "      <th>gk_diving</th>\n",
       "      <th>gk_handling</th>\n",
       "      <th>gk_kicking</th>\n",
       "      <th>gk_positioning</th>\n",
       "      <th>gk_reflexes</th>\n",
       "    </tr>\n",
       "  </thead>\n",
       "  <tbody>\n",
       "    <tr>\n",
       "      <th>0</th>\n",
       "      <td>right</td>\n",
       "      <td>medium</td>\n",
       "      <td>medium</td>\n",
       "      <td>49.0</td>\n",
       "      <td>44.0</td>\n",
       "      <td>71.0</td>\n",
       "      <td>61.0</td>\n",
       "      <td>44.0</td>\n",
       "      <td>51.0</td>\n",
       "      <td>45.0</td>\n",
       "      <td>...</td>\n",
       "      <td>54.0</td>\n",
       "      <td>48.0</td>\n",
       "      <td>65.0</td>\n",
       "      <td>69.0</td>\n",
       "      <td>69.0</td>\n",
       "      <td>6.0</td>\n",
       "      <td>11.0</td>\n",
       "      <td>10.0</td>\n",
       "      <td>8.0</td>\n",
       "      <td>8.0</td>\n",
       "    </tr>\n",
       "  </tbody>\n",
       "</table>\n",
       "<p>1 rows × 36 columns</p>\n",
       "</div>"
      ],
      "text/plain": [
       "  preferred_foot attacking_work_rate defensive_work_rate  crossing  finishing  \\\n",
       "0          right              medium              medium      49.0       44.0   \n",
       "\n",
       "   heading_accuracy  short_passing  volleys  dribbling  curve     ...       \\\n",
       "0              71.0           61.0     44.0       51.0   45.0     ...        \n",
       "\n",
       "   vision  penalties  marking  standing_tackle  sliding_tackle  gk_diving  \\\n",
       "0    54.0       48.0     65.0             69.0            69.0        6.0   \n",
       "\n",
       "   gk_handling  gk_kicking  gk_positioning  gk_reflexes  \n",
       "0         11.0        10.0             8.0          8.0  \n",
       "\n",
       "[1 rows x 36 columns]"
      ]
     },
     "metadata": {},
     "output_type": "display_data"
    }
   ],
   "source": [
    "players_skills = players_df[['player_api_id', 'finishing', 'sliding_tackle', 'gk_reflexes', 'short_passing', 'date']]\n",
    "players_ratings_label = players_df[['player_api_id','date', 'overall_rating']]\n",
    "players_features_df = players_df.drop(['id', 'player_fifa_api_id', 'player_api_id', 'date', 'overall_rating', 'potential'], axis=1)\n",
    "display(players_features_df.head(n=1))"
   ]
  },
  {
   "cell_type": "markdown",
   "metadata": {},
   "source": [
    "* Teams\n",
    "No output label. I'll drop the metadata to get features."
   ]
  },
  {
   "cell_type": "code",
   "execution_count": 3,
   "metadata": {},
   "outputs": [
    {
     "data": {
      "text/html": [
       "<div>\n",
       "<style>\n",
       "    .dataframe thead tr:only-child th {\n",
       "        text-align: right;\n",
       "    }\n",
       "\n",
       "    .dataframe thead th {\n",
       "        text-align: left;\n",
       "    }\n",
       "\n",
       "    .dataframe tbody tr th {\n",
       "        vertical-align: top;\n",
       "    }\n",
       "</style>\n",
       "<table border=\"1\" class=\"dataframe\">\n",
       "  <thead>\n",
       "    <tr style=\"text-align: right;\">\n",
       "      <th></th>\n",
       "      <th>buildUpPlaySpeed</th>\n",
       "      <th>buildUpPlaySpeedClass</th>\n",
       "      <th>buildUpPlayDribbling</th>\n",
       "      <th>buildUpPlayDribblingClass</th>\n",
       "      <th>buildUpPlayPassing</th>\n",
       "      <th>buildUpPlayPassingClass</th>\n",
       "      <th>buildUpPlayPositioningClass</th>\n",
       "      <th>chanceCreationPassing</th>\n",
       "      <th>chanceCreationPassingClass</th>\n",
       "      <th>chanceCreationCrossing</th>\n",
       "      <th>...</th>\n",
       "      <th>chanceCreationShooting</th>\n",
       "      <th>chanceCreationShootingClass</th>\n",
       "      <th>chanceCreationPositioningClass</th>\n",
       "      <th>defencePressure</th>\n",
       "      <th>defencePressureClass</th>\n",
       "      <th>defenceAggression</th>\n",
       "      <th>defenceAggressionClass</th>\n",
       "      <th>defenceTeamWidth</th>\n",
       "      <th>defenceTeamWidthClass</th>\n",
       "      <th>defenceDefenderLineClass</th>\n",
       "    </tr>\n",
       "  </thead>\n",
       "  <tbody>\n",
       "    <tr>\n",
       "      <th>0</th>\n",
       "      <td>60</td>\n",
       "      <td>Balanced</td>\n",
       "      <td>NaN</td>\n",
       "      <td>Little</td>\n",
       "      <td>50</td>\n",
       "      <td>Mixed</td>\n",
       "      <td>Organised</td>\n",
       "      <td>60</td>\n",
       "      <td>Normal</td>\n",
       "      <td>65</td>\n",
       "      <td>...</td>\n",
       "      <td>55</td>\n",
       "      <td>Normal</td>\n",
       "      <td>Organised</td>\n",
       "      <td>50</td>\n",
       "      <td>Medium</td>\n",
       "      <td>55</td>\n",
       "      <td>Press</td>\n",
       "      <td>45</td>\n",
       "      <td>Normal</td>\n",
       "      <td>Cover</td>\n",
       "    </tr>\n",
       "  </tbody>\n",
       "</table>\n",
       "<p>1 rows × 21 columns</p>\n",
       "</div>"
      ],
      "text/plain": [
       "   buildUpPlaySpeed buildUpPlaySpeedClass  buildUpPlayDribbling  \\\n",
       "0                60              Balanced                   NaN   \n",
       "\n",
       "  buildUpPlayDribblingClass  buildUpPlayPassing buildUpPlayPassingClass  \\\n",
       "0                    Little                  50                   Mixed   \n",
       "\n",
       "  buildUpPlayPositioningClass  chanceCreationPassing  \\\n",
       "0                   Organised                     60   \n",
       "\n",
       "  chanceCreationPassingClass  chanceCreationCrossing           ...             \\\n",
       "0                     Normal                      65           ...              \n",
       "\n",
       "  chanceCreationShooting  chanceCreationShootingClass  \\\n",
       "0                     55                       Normal   \n",
       "\n",
       "  chanceCreationPositioningClass defencePressure  defencePressureClass  \\\n",
       "0                      Organised              50                Medium   \n",
       "\n",
       "  defenceAggression  defenceAggressionClass defenceTeamWidth  \\\n",
       "0                55                   Press               45   \n",
       "\n",
       "   defenceTeamWidthClass defenceDefenderLineClass  \n",
       "0                 Normal                    Cover  \n",
       "\n",
       "[1 rows x 21 columns]"
      ]
     },
     "metadata": {},
     "output_type": "display_data"
    }
   ],
   "source": [
    "teams_features_df = teams_df.drop(['id', 'team_fifa_api_id', 'team_api_id', 'date'], axis=1)\n",
    "display(teams_features_df.head(n=1))"
   ]
  },
  {
   "cell_type": "markdown",
   "metadata": {},
   "source": [
    "### Generating output labels\n",
    "\n",
    "The matches have the goals score information (by home and away) teams; however don't have a label. I am generating a label, based on the goals scored.\n",
    "\n",
    "#### Get match results\n",
    "In the following code cell, I apply a lambda function to get the result label as either ['Home Win', 'Away Win', 'Draw']. "
   ]
  },
  {
   "cell_type": "code",
   "execution_count": 4,
   "metadata": {},
   "outputs": [
    {
     "data": {
      "text/plain": [
       "4709         DRAW\n",
       "18451    HOME_WIN\n",
       "3094         DRAW\n",
       "22125    HOME_WIN\n",
       "21944    AWAY_WIN\n",
       "9405     HOME_WIN\n",
       "21913    AWAY_WIN\n",
       "23211    AWAY_WIN\n",
       "16454    AWAY_WIN\n",
       "8320         DRAW\n",
       "Name: result_label, dtype: object"
      ]
     },
     "metadata": {},
     "output_type": "display_data"
    }
   ],
   "source": [
    "import matches as matches\n",
    "match_df['result_label'] = match_df.apply(matches.result, axis = 1)\n",
    "display(match_df.result_label.sample(n=10))"
   ]
  },
  {
   "cell_type": "markdown",
   "metadata": {},
   "source": [
    "### Defining the base classifier: The home advantage\n",
    "Now that we have our labels defined, let us define the **baseline classifier**.\n",
    "Home advantage is real, as mentioned in the Kaggle link, as well as here: http://bleacherreport.com/articles/1604854-how-much-does-home-field-advantage-matter-in-soccer. Lets analyze the home advantage across different leagues."
   ]
  },
  {
   "cell_type": "code",
   "execution_count": 5,
   "metadata": {},
   "outputs": [
    {
     "data": {
      "text/html": [
       "<div>\n",
       "<style>\n",
       "    .dataframe thead tr:only-child th {\n",
       "        text-align: right;\n",
       "    }\n",
       "\n",
       "    .dataframe thead th {\n",
       "        text-align: left;\n",
       "    }\n",
       "\n",
       "    .dataframe tbody tr th {\n",
       "        vertical-align: top;\n",
       "    }\n",
       "</style>\n",
       "<table border=\"1\" class=\"dataframe\">\n",
       "  <thead>\n",
       "    <tr style=\"text-align: right;\">\n",
       "      <th></th>\n",
       "      <th>name</th>\n",
       "      <th>percentage_home_win</th>\n",
       "    </tr>\n",
       "  </thead>\n",
       "  <tbody>\n",
       "    <tr>\n",
       "      <th>0</th>\n",
       "      <td>Belgium</td>\n",
       "      <td>46.875000</td>\n",
       "    </tr>\n",
       "    <tr>\n",
       "      <th>1</th>\n",
       "      <td>England</td>\n",
       "      <td>45.723684</td>\n",
       "    </tr>\n",
       "    <tr>\n",
       "      <th>2</th>\n",
       "      <td>France</td>\n",
       "      <td>44.703947</td>\n",
       "    </tr>\n",
       "    <tr>\n",
       "      <th>3</th>\n",
       "      <td>Germany</td>\n",
       "      <td>45.220588</td>\n",
       "    </tr>\n",
       "    <tr>\n",
       "      <th>4</th>\n",
       "      <td>Italy</td>\n",
       "      <td>46.635731</td>\n",
       "    </tr>\n",
       "    <tr>\n",
       "      <th>5</th>\n",
       "      <td>Netherlands</td>\n",
       "      <td>47.834967</td>\n",
       "    </tr>\n",
       "    <tr>\n",
       "      <th>6</th>\n",
       "      <td>Poland</td>\n",
       "      <td>45.312500</td>\n",
       "    </tr>\n",
       "    <tr>\n",
       "      <th>7</th>\n",
       "      <td>Portugal</td>\n",
       "      <td>44.249513</td>\n",
       "    </tr>\n",
       "    <tr>\n",
       "      <th>8</th>\n",
       "      <td>Scotland</td>\n",
       "      <td>41.666667</td>\n",
       "    </tr>\n",
       "    <tr>\n",
       "      <th>9</th>\n",
       "      <td>Spain</td>\n",
       "      <td>48.848684</td>\n",
       "    </tr>\n",
       "    <tr>\n",
       "      <th>10</th>\n",
       "      <td>Switzerland</td>\n",
       "      <td>45.710267</td>\n",
       "    </tr>\n",
       "  </tbody>\n",
       "</table>\n",
       "</div>"
      ],
      "text/plain": [
       "           name  percentage_home_win\n",
       "0       Belgium            46.875000\n",
       "1       England            45.723684\n",
       "2        France            44.703947\n",
       "3       Germany            45.220588\n",
       "4         Italy            46.635731\n",
       "5   Netherlands            47.834967\n",
       "6        Poland            45.312500\n",
       "7      Portugal            44.249513\n",
       "8      Scotland            41.666667\n",
       "9         Spain            48.848684\n",
       "10  Switzerland            45.710267"
      ]
     },
     "metadata": {},
     "output_type": "display_data"
    },
    {
     "name": "stdout",
     "output_type": "stream",
     "text": [
      "Home Wins occur about 0.46 % of the time\n",
      "Away Wins occur about 0.29 % of the time\n"
     ]
    }
   ],
   "source": [
    "import data_preprocess as dp\n",
    "reload(dp)\n",
    "home_advantage_per_country = dp.home_advantage(matches_df=match_df, conn=conn)\n",
    "display(home_advantage_per_country)\n",
    "total_num_matches = match_df.shape[0]\n",
    "total_home_wins = match_df[match_df['result_label'] == 'HOME_WIN'].shape[0]\n",
    "total_away_wins = match_df[match_df['result_label'] == 'AWAY_WIN'].shape[0]\n",
    "print (\"Home Wins occur about \" + str(np.around(np.true_divide(total_home_wins, total_num_matches), decimals = 2)) + \" % of the time\")\n",
    "print (\"Away Wins occur about \" + str(np.around(np.true_divide(total_away_wins, total_num_matches), decimals = 2)) + \" % of the time\")"
   ]
  },
  {
   "cell_type": "markdown",
   "metadata": {},
   "source": [
    "#### Observations:\n",
    "Home advantage is indeed real; and consistent across all countries. ALWAYS predicting a home win would result us in being correct 46% of the time; and therefore our **baseline accuracy with a naive model is 46%.**\n",
    "I would like to use this to some effect while engineering features. I believe such stats might help:\n",
    "* Home team's track record playing at home\n",
    "* Away team's track record playing away \n",
    "* Away team's track record playing at the location the current match is at\n",
    "\n",
    "More on this in the section on features."
   ]
  },
  {
   "cell_type": "markdown",
   "metadata": {},
   "source": [
    "#### Visualizing player ratings\n",
    "A histogram visualization to view player distributions in terms of ratings will be helpful. I will be using this to gain intution for features such as 'players_in_top_X_percent'. Sometimes a single ***star player*** can win a match for their team; and that is my intuition behind these features."
   ]
  },
  {
   "cell_type": "code",
   "execution_count": 6,
   "metadata": {},
   "outputs": [
    {
     "data": {
      "text/plain": [
       "(63.5, 73.667]      0.530580\n",
       "(73.667, 83.833]    0.230843\n",
       "(53.333, 63.5]      0.197029\n",
       "(43.167, 53.333]    0.022057\n",
       "(83.833, 94.0]      0.013904\n",
       "(32.938, 43.167]    0.001044\n",
       "Name: overall_rating, dtype: float64"
      ]
     },
     "execution_count": 6,
     "metadata": {},
     "output_type": "execute_result"
    },
    {
     "data": {
      "image/png": "[encoded data removed]",
      "text/plain": [
       "<matplotlib.figure.Figure at 0x10cd144d0>"
      ]
     },
     "metadata": {},
     "output_type": "display_data"
    }
   ],
   "source": [
    "import matplotlib.pyplot as plt\n",
    "# Visualize player ratings\n",
    "players_df.hist(column= 'overall_rating', bins = 6)\n",
    "players_df['overall_rating'].value_counts(bins = 6, normalize=True)"
   ]
  },
  {
   "cell_type": "markdown",
   "metadata": {},
   "source": [
    "#### Defining the problems\n",
    "\n",
    "* The holy grail is predicting the outcome of a football match, as mentioned in the kaggle link for the dataset I intend to use \n",
    "\n",
    "* Cluster matches based on the excitement level and interest in the game; possibly use this to model ticket prices. I would guess that a match between Real Madrid and Barcelona would be the most expensive. What factors make fans pay more for a match? If I follow a certain team, how much money can I expect to shell out?\n",
    "\n",
    "* Model players and teams; and assign them a quantifiable number that serves as a rating of skill. I would like to find the answer to the pull of star power; many people tune in to football matches to watch Messi, Neymar or Ronaldo. Note that the capability of players also affects the excitement surrounding football matches.\n",
    "\n",
    "* The main service they provided is advice to teams on whether or not a player should be bought or sold, not sure if this would be of any help, one of they key concepts they discussed was coming up with a metric on players on how much of an impact the player makes which was calculated by figuring out a team's performance with and without that particular player while taking into account other players and different circumstances.\n",
    "**Background**\n",
    "Players get injured all the time, with managers complaning about injuries (insert link). Through this part of the code, I wish to answer this queation: ***How does the team fare if player X is out due to injury for T% of the season?***. For eg. : How does Barcelona do in season 2011-12, had Messi not been there?"
   ]
  },
  {
   "cell_type": "markdown",
   "metadata": {},
   "source": [
    "### Handling Bad Data\n",
    "\n",
    "The Kaggle page does say that some input values are missing, and indeed it does. In this code block, I wish to eliminate some of the data where features I think are relevant (more discussion on this in the section on Feature generation). The columns are defined in the Utils.py file in the code. For now, I will be focusing on the match dataframe.\n",
    "\n",
    "For this I use the *dropna* method in pandas. I certainly do not want to blindly check for validity of all columns in the match; a lot of it is information I don't think is necessary for prediction (bettting data, corners for example); atleast for the problem of determining match results.\n",
    "\n",
    "Therefore I define the columns IMPORTANT to me, in the aptly named variable.\n",
    "Luckily, even if I drop the data if ***any*** of the player ratings is absent, I do not lose a lot of data; as shown in the example below.\n",
    "\n",
    "### TODO: Different processing for the match excitement clustering problem"
   ]
  },
  {
   "cell_type": "code",
   "execution_count": 7,
   "metadata": {},
   "outputs": [
    {
     "name": "stdout",
     "output_type": "stream",
     "text": [
      "Number of samples before removing cases of no data: 25979\n",
      "Number of samples after removing cases of no data: 21374\n"
     ]
    }
   ],
   "source": [
    "import Utils as Utils\n",
    "reload(Utils)\n",
    "IMPORTANT_COLUMNS = Utils.AWAY_PLAYER_COLUMNS + Utils.HOME_PLAYER_COLUMNS\n",
    "print (\"Number of samples before removing cases of no data: \" + str(match_df.shape[0]))\n",
    "match_clean_data_df = match_df.dropna(axis = 0, how = 'any', subset = IMPORTANT_COLUMNS)\n",
    "print (\"Number of samples after removing cases of no data: \" + str(match_clean_data_df.shape[0]))"
   ]
  },
  {
   "cell_type": "markdown",
   "metadata": {},
   "source": [
    "# Feature Selection\n",
    "\n",
    "In this section, I generate some features from the given match data, that I think are relevant from my domain knowledge of football.\n",
    "\n",
    "## TODO: WRITE ABOUT HOW YOU LEARNT ABOUT LAMBDA AND PARTIAL HERE.\n",
    "\n",
    "### Utility APIs for features\n",
    "The following code blocks demonstrates the use of some util methods I have in my code, to help get some features from the raw data for the task of match prediction. \n",
    "\n",
    "#### Acknowledgement: Thanks to the author of https://www.kaggle.com/harvinderwazir/match-outcome-prediction-in-football/notebook ; for neatly putting up the relevant column names for a particular task! :)\n",
    "\n",
    "#### Classify a player into midfield, attack and defense\n",
    "Takes in as an input the relevant player skills and classifies into midfielder, attacker, defender or goalkeeper; based on the most recent numbers from the database. Here I validate my method against the famous players (3 of each of the 4 types) who I know i can classify into the aforementioned categories.\n",
    "As can be seem from the results (and if you know your football :), my method takes a good decision from the columns of interest. The reason I wish to make this distinction is to better divide a team's rating based on players into defense, attack and midfield; rather than an overall average rating. I will be using this more further in the section on Features and Classification."
   ]
  },
  {
   "cell_type": "code",
   "execution_count": 8,
   "metadata": {},
   "outputs": [
    {
     "name": "stderr",
     "output_type": "stream",
     "text": [
      "players.py:25: SettingWithCopyWarning: \n",
      "A value is trying to be set on a copy of a slice from a DataFrame.\n",
      "Try using .loc[row_indexer,col_indexer] = value instead\n",
      "\n",
      "See the caveats in the documentation: http://pandas.pydata.org/pandas-docs/stable/indexing.html#indexing-view-versus-copy\n",
      "  latest_skills_df['player_type'] = latest_skills_df.idxmax(axis=1)\n",
      "players.py:26: SettingWithCopyWarning: \n",
      "A value is trying to be set on a copy of a slice from a DataFrame.\n",
      "Try using .loc[row_indexer,col_indexer] = value instead\n",
      "\n",
      "See the caveats in the documentation: http://pandas.pydata.org/pandas-docs/stable/indexing.html#indexing-view-versus-copy\n",
      "  latest_skills_df['player_name'] = player_name\n",
      "players.py:27: SettingWithCopyWarning: \n",
      "A value is trying to be set on a copy of a slice from a DataFrame.\n",
      "Try using .loc[row_indexer,col_indexer] = value instead\n",
      "\n",
      "See the caveats in the documentation: http://pandas.pydata.org/pandas-docs/stable/indexing.html#indexing-view-versus-copy\n",
      "  latest_skills_df['player_api_id'] = latest_df['player_api_id']\n",
      "players.py:29: SettingWithCopyWarning: \n",
      "A value is trying to be set on a copy of a slice from a DataFrame.\n",
      "Try using .loc[row_indexer,col_indexer] = value instead\n",
      "\n",
      "See the caveats in the documentation: http://pandas.pydata.org/pandas-docs/stable/indexing.html#indexing-view-versus-copy\n",
      "  'finishing', 'Attacker', latest_skills_df['player_type'])\n",
      "players.py:31: SettingWithCopyWarning: \n",
      "A value is trying to be set on a copy of a slice from a DataFrame.\n",
      "Try using .loc[row_indexer,col_indexer] = value instead\n",
      "\n",
      "See the caveats in the documentation: http://pandas.pydata.org/pandas-docs/stable/indexing.html#indexing-view-versus-copy\n",
      "  'short_passing', 'Midfielder', latest_skills_df['player_type'])\n",
      "players.py:33: SettingWithCopyWarning: \n",
      "A value is trying to be set on a copy of a slice from a DataFrame.\n",
      "Try using .loc[row_indexer,col_indexer] = value instead\n",
      "\n",
      "See the caveats in the documentation: http://pandas.pydata.org/pandas-docs/stable/indexing.html#indexing-view-versus-copy\n",
      "  'sliding_tackle', 'Defender', latest_skills_df['player_type'])\n",
      "players.py:35: SettingWithCopyWarning: \n",
      "A value is trying to be set on a copy of a slice from a DataFrame.\n",
      "Try using .loc[row_indexer,col_indexer] = value instead\n",
      "\n",
      "See the caveats in the documentation: http://pandas.pydata.org/pandas-docs/stable/indexing.html#indexing-view-versus-copy\n",
      "  'gk_reflexes', 'Goalkeeper', latest_skills_df['player_type'])\n"
     ]
    },
    {
     "data": {
      "text/html": [
       "<div>\n",
       "<style>\n",
       "    .dataframe thead tr:only-child th {\n",
       "        text-align: right;\n",
       "    }\n",
       "\n",
       "    .dataframe thead th {\n",
       "        text-align: left;\n",
       "    }\n",
       "\n",
       "    .dataframe tbody tr th {\n",
       "        vertical-align: top;\n",
       "    }\n",
       "</style>\n",
       "<table border=\"1\" class=\"dataframe\">\n",
       "  <thead>\n",
       "    <tr style=\"text-align: right;\">\n",
       "      <th></th>\n",
       "      <th>player_name</th>\n",
       "      <th>player_type</th>\n",
       "      <th>player_api_id</th>\n",
       "    </tr>\n",
       "  </thead>\n",
       "  <tbody>\n",
       "    <tr>\n",
       "      <th>102482</th>\n",
       "      <td>Lionel Messi</td>\n",
       "      <td>Attacker</td>\n",
       "      <td>30981</td>\n",
       "    </tr>\n",
       "  </tbody>\n",
       "</table>\n",
       "</div>"
      ],
      "text/plain": [
       "         player_name player_type  player_api_id\n",
       "102482  Lionel Messi    Attacker          30981"
      ]
     },
     "metadata": {},
     "output_type": "display_data"
    },
    {
     "data": {
      "text/html": [
       "<div>\n",
       "<style>\n",
       "    .dataframe thead tr:only-child th {\n",
       "        text-align: right;\n",
       "    }\n",
       "\n",
       "    .dataframe thead th {\n",
       "        text-align: left;\n",
       "    }\n",
       "\n",
       "    .dataframe tbody tr th {\n",
       "        vertical-align: top;\n",
       "    }\n",
       "</style>\n",
       "<table border=\"1\" class=\"dataframe\">\n",
       "  <thead>\n",
       "    <tr style=\"text-align: right;\">\n",
       "      <th></th>\n",
       "      <th>player_name</th>\n",
       "      <th>player_type</th>\n",
       "      <th>player_api_id</th>\n",
       "    </tr>\n",
       "  </thead>\n",
       "  <tbody>\n",
       "    <tr>\n",
       "      <th>33330</th>\n",
       "      <td>Cristiano Ronaldo</td>\n",
       "      <td>Attacker</td>\n",
       "      <td>30893</td>\n",
       "    </tr>\n",
       "  </tbody>\n",
       "</table>\n",
       "</div>"
      ],
      "text/plain": [
       "             player_name player_type  player_api_id\n",
       "33330  Cristiano Ronaldo    Attacker          30893"
      ]
     },
     "metadata": {},
     "output_type": "display_data"
    },
    {
     "data": {
      "text/html": [
       "<div>\n",
       "<style>\n",
       "    .dataframe thead tr:only-child th {\n",
       "        text-align: right;\n",
       "    }\n",
       "\n",
       "    .dataframe thead th {\n",
       "        text-align: left;\n",
       "    }\n",
       "\n",
       "    .dataframe tbody tr th {\n",
       "        vertical-align: top;\n",
       "    }\n",
       "</style>\n",
       "<table border=\"1\" class=\"dataframe\">\n",
       "  <thead>\n",
       "    <tr style=\"text-align: right;\">\n",
       "      <th></th>\n",
       "      <th>player_name</th>\n",
       "      <th>player_type</th>\n",
       "      <th>player_api_id</th>\n",
       "    </tr>\n",
       "  </thead>\n",
       "  <tbody>\n",
       "    <tr>\n",
       "      <th>43418</th>\n",
       "      <td>Didier Drogba</td>\n",
       "      <td>Attacker</td>\n",
       "      <td>30822</td>\n",
       "    </tr>\n",
       "  </tbody>\n",
       "</table>\n",
       "</div>"
      ],
      "text/plain": [
       "         player_name player_type  player_api_id\n",
       "43418  Didier Drogba    Attacker          30822"
      ]
     },
     "metadata": {},
     "output_type": "display_data"
    },
    {
     "data": {
      "text/html": [
       "<div>\n",
       "<style>\n",
       "    .dataframe thead tr:only-child th {\n",
       "        text-align: right;\n",
       "    }\n",
       "\n",
       "    .dataframe thead th {\n",
       "        text-align: left;\n",
       "    }\n",
       "\n",
       "    .dataframe tbody tr th {\n",
       "        vertical-align: top;\n",
       "    }\n",
       "</style>\n",
       "<table border=\"1\" class=\"dataframe\">\n",
       "  <thead>\n",
       "    <tr style=\"text-align: right;\">\n",
       "      <th></th>\n",
       "      <th>player_name</th>\n",
       "      <th>player_type</th>\n",
       "      <th>player_api_id</th>\n",
       "    </tr>\n",
       "  </thead>\n",
       "  <tbody>\n",
       "    <tr>\n",
       "      <th>84848</th>\n",
       "      <td>John Terry</td>\n",
       "      <td>Defender</td>\n",
       "      <td>30627</td>\n",
       "    </tr>\n",
       "  </tbody>\n",
       "</table>\n",
       "</div>"
      ],
      "text/plain": [
       "      player_name player_type  player_api_id\n",
       "84848  John Terry    Defender          30627"
      ]
     },
     "metadata": {},
     "output_type": "display_data"
    },
    {
     "data": {
      "text/html": [
       "<div>\n",
       "<style>\n",
       "    .dataframe thead tr:only-child th {\n",
       "        text-align: right;\n",
       "    }\n",
       "\n",
       "    .dataframe thead th {\n",
       "        text-align: left;\n",
       "    }\n",
       "\n",
       "    .dataframe tbody tr th {\n",
       "        vertical-align: top;\n",
       "    }\n",
       "</style>\n",
       "<table border=\"1\" class=\"dataframe\">\n",
       "  <thead>\n",
       "    <tr style=\"text-align: right;\">\n",
       "      <th></th>\n",
       "      <th>player_name</th>\n",
       "      <th>player_type</th>\n",
       "      <th>player_api_id</th>\n",
       "    </tr>\n",
       "  </thead>\n",
       "  <tbody>\n",
       "    <tr>\n",
       "      <th>149835</th>\n",
       "      <td>Rio Ferdinand</td>\n",
       "      <td>Defender</td>\n",
       "      <td>30620</td>\n",
       "    </tr>\n",
       "  </tbody>\n",
       "</table>\n",
       "</div>"
      ],
      "text/plain": [
       "          player_name player_type  player_api_id\n",
       "149835  Rio Ferdinand    Defender          30620"
      ]
     },
     "metadata": {},
     "output_type": "display_data"
    },
    {
     "data": {
      "text/html": [
       "<div>\n",
       "<style>\n",
       "    .dataframe thead tr:only-child th {\n",
       "        text-align: right;\n",
       "    }\n",
       "\n",
       "    .dataframe thead th {\n",
       "        text-align: left;\n",
       "    }\n",
       "\n",
       "    .dataframe tbody tr th {\n",
       "        vertical-align: top;\n",
       "    }\n",
       "</style>\n",
       "<table border=\"1\" class=\"dataframe\">\n",
       "  <thead>\n",
       "    <tr style=\"text-align: right;\">\n",
       "      <th></th>\n",
       "      <th>player_name</th>\n",
       "      <th>player_type</th>\n",
       "      <th>player_api_id</th>\n",
       "    </tr>\n",
       "  </thead>\n",
       "  <tbody>\n",
       "    <tr>\n",
       "      <th>62977</th>\n",
       "      <td>Gerard Pique</td>\n",
       "      <td>Defender</td>\n",
       "      <td>37482</td>\n",
       "    </tr>\n",
       "  </tbody>\n",
       "</table>\n",
       "</div>"
      ],
      "text/plain": [
       "        player_name player_type  player_api_id\n",
       "62977  Gerard Pique    Defender          37482"
      ]
     },
     "metadata": {},
     "output_type": "display_data"
    },
    {
     "data": {
      "text/html": [
       "<div>\n",
       "<style>\n",
       "    .dataframe thead tr:only-child th {\n",
       "        text-align: right;\n",
       "    }\n",
       "\n",
       "    .dataframe thead th {\n",
       "        text-align: left;\n",
       "    }\n",
       "\n",
       "    .dataframe tbody tr th {\n",
       "        vertical-align: top;\n",
       "    }\n",
       "</style>\n",
       "<table border=\"1\" class=\"dataframe\">\n",
       "  <thead>\n",
       "    <tr style=\"text-align: right;\">\n",
       "      <th></th>\n",
       "      <th>player_name</th>\n",
       "      <th>player_type</th>\n",
       "      <th>player_api_id</th>\n",
       "    </tr>\n",
       "  </thead>\n",
       "  <tbody>\n",
       "    <tr>\n",
       "      <th>142868</th>\n",
       "      <td>Petr Cech</td>\n",
       "      <td>Goalkeeper</td>\n",
       "      <td>30859</td>\n",
       "    </tr>\n",
       "  </tbody>\n",
       "</table>\n",
       "</div>"
      ],
      "text/plain": [
       "       player_name player_type  player_api_id\n",
       "142868   Petr Cech  Goalkeeper          30859"
      ]
     },
     "metadata": {},
     "output_type": "display_data"
    },
    {
     "data": {
      "text/html": [
       "<div>\n",
       "<style>\n",
       "    .dataframe thead tr:only-child th {\n",
       "        text-align: right;\n",
       "    }\n",
       "\n",
       "    .dataframe thead th {\n",
       "        text-align: left;\n",
       "    }\n",
       "\n",
       "    .dataframe tbody tr th {\n",
       "        vertical-align: top;\n",
       "    }\n",
       "</style>\n",
       "<table border=\"1\" class=\"dataframe\">\n",
       "  <thead>\n",
       "    <tr style=\"text-align: right;\">\n",
       "      <th></th>\n",
       "      <th>player_name</th>\n",
       "      <th>player_type</th>\n",
       "      <th>player_api_id</th>\n",
       "    </tr>\n",
       "  </thead>\n",
       "  <tbody>\n",
       "    <tr>\n",
       "      <th>72590</th>\n",
       "      <td>Iker Casillas</td>\n",
       "      <td>Goalkeeper</td>\n",
       "      <td>30657</td>\n",
       "    </tr>\n",
       "  </tbody>\n",
       "</table>\n",
       "</div>"
      ],
      "text/plain": [
       "         player_name player_type  player_api_id\n",
       "72590  Iker Casillas  Goalkeeper          30657"
      ]
     },
     "metadata": {},
     "output_type": "display_data"
    },
    {
     "data": {
      "text/html": [
       "<div>\n",
       "<style>\n",
       "    .dataframe thead tr:only-child th {\n",
       "        text-align: right;\n",
       "    }\n",
       "\n",
       "    .dataframe thead th {\n",
       "        text-align: left;\n",
       "    }\n",
       "\n",
       "    .dataframe tbody tr th {\n",
       "        vertical-align: top;\n",
       "    }\n",
       "</style>\n",
       "<table border=\"1\" class=\"dataframe\">\n",
       "  <thead>\n",
       "    <tr style=\"text-align: right;\">\n",
       "      <th></th>\n",
       "      <th>player_name</th>\n",
       "      <th>player_type</th>\n",
       "      <th>player_api_id</th>\n",
       "    </tr>\n",
       "  </thead>\n",
       "  <tbody>\n",
       "    <tr>\n",
       "      <th>83352</th>\n",
       "      <td>Joe Hart</td>\n",
       "      <td>Goalkeeper</td>\n",
       "      <td>31432</td>\n",
       "    </tr>\n",
       "  </tbody>\n",
       "</table>\n",
       "</div>"
      ],
      "text/plain": [
       "      player_name player_type  player_api_id\n",
       "83352    Joe Hart  Goalkeeper          31432"
      ]
     },
     "metadata": {},
     "output_type": "display_data"
    },
    {
     "data": {
      "text/html": [
       "<div>\n",
       "<style>\n",
       "    .dataframe thead tr:only-child th {\n",
       "        text-align: right;\n",
       "    }\n",
       "\n",
       "    .dataframe thead th {\n",
       "        text-align: left;\n",
       "    }\n",
       "\n",
       "    .dataframe tbody tr th {\n",
       "        vertical-align: top;\n",
       "    }\n",
       "</style>\n",
       "<table border=\"1\" class=\"dataframe\">\n",
       "  <thead>\n",
       "    <tr style=\"text-align: right;\">\n",
       "      <th></th>\n",
       "      <th>player_name</th>\n",
       "      <th>player_type</th>\n",
       "      <th>player_api_id</th>\n",
       "    </tr>\n",
       "  </thead>\n",
       "  <tbody>\n",
       "    <tr>\n",
       "      <th>59244</th>\n",
       "      <td>Frank Lampard</td>\n",
       "      <td>Midfielder</td>\n",
       "      <td>30631</td>\n",
       "    </tr>\n",
       "  </tbody>\n",
       "</table>\n",
       "</div>"
      ],
      "text/plain": [
       "         player_name player_type  player_api_id\n",
       "59244  Frank Lampard  Midfielder          30631"
      ]
     },
     "metadata": {},
     "output_type": "display_data"
    },
    {
     "data": {
      "text/html": [
       "<div>\n",
       "<style>\n",
       "    .dataframe thead tr:only-child th {\n",
       "        text-align: right;\n",
       "    }\n",
       "\n",
       "    .dataframe thead th {\n",
       "        text-align: left;\n",
       "    }\n",
       "\n",
       "    .dataframe tbody tr th {\n",
       "        vertical-align: top;\n",
       "    }\n",
       "</style>\n",
       "<table border=\"1\" class=\"dataframe\">\n",
       "  <thead>\n",
       "    <tr style=\"text-align: right;\">\n",
       "      <th></th>\n",
       "      <th>player_name</th>\n",
       "      <th>player_type</th>\n",
       "      <th>player_api_id</th>\n",
       "    </tr>\n",
       "  </thead>\n",
       "  <tbody>\n",
       "    <tr>\n",
       "      <th>180709</th>\n",
       "      <td>Xavi Hernandez</td>\n",
       "      <td>Midfielder</td>\n",
       "      <td>39854</td>\n",
       "    </tr>\n",
       "  </tbody>\n",
       "</table>\n",
       "</div>"
      ],
      "text/plain": [
       "           player_name player_type  player_api_id\n",
       "180709  Xavi Hernandez  Midfielder          39854"
      ]
     },
     "metadata": {},
     "output_type": "display_data"
    },
    {
     "data": {
      "text/html": [
       "<div>\n",
       "<style>\n",
       "    .dataframe thead tr:only-child th {\n",
       "        text-align: right;\n",
       "    }\n",
       "\n",
       "    .dataframe thead th {\n",
       "        text-align: left;\n",
       "    }\n",
       "\n",
       "    .dataframe tbody tr th {\n",
       "        vertical-align: top;\n",
       "    }\n",
       "</style>\n",
       "<table border=\"1\" class=\"dataframe\">\n",
       "  <thead>\n",
       "    <tr style=\"text-align: right;\">\n",
       "      <th></th>\n",
       "      <th>player_name</th>\n",
       "      <th>player_type</th>\n",
       "      <th>player_api_id</th>\n",
       "    </tr>\n",
       "  </thead>\n",
       "  <tbody>\n",
       "    <tr>\n",
       "      <th>12773</th>\n",
       "      <td>Andres Iniesta</td>\n",
       "      <td>Midfielder</td>\n",
       "      <td>30955</td>\n",
       "    </tr>\n",
       "  </tbody>\n",
       "</table>\n",
       "</div>"
      ],
      "text/plain": [
       "          player_name player_type  player_api_id\n",
       "12773  Andres Iniesta  Midfielder          30955"
      ]
     },
     "metadata": {},
     "output_type": "display_data"
    }
   ],
   "source": [
    "import players as players\n",
    "reload(players)\n",
    "player_names_df = dp.sql_to_dataframe(conn, select_all_query_table(\"Player\"))\n",
    "FAMOUS_PLAYER_NAMES = ['Lionel Messi', 'Cristiano Ronaldo', 'Didier Drogba', 'John Terry', \n",
    "                'Rio Ferdinand', 'Gerard Pique', 'Petr Cech', 'Iker Casillas', \n",
    "                'Joe Hart', 'Frank Lampard', 'Xavi Hernandez', 'Andres Iniesta']\n",
    "COLUMNS_OF_INTEREST = ['player_name', 'finishing', 'sliding_tackle',\n",
    "                     'gk_reflexes', 'short_passing']\n",
    "for player in FAMOUS_PLAYER_NAMES:\n",
    "    display(players.player_to_player_type(players_skills=players_skills, player_names_df=player_names_df, \n",
    "                                      player_name=player, COLUMNS_OF_INTEREST=COLUMNS_OF_INTEREST))"
   ]
  },
  {
   "cell_type": "markdown",
   "metadata": {},
   "source": [
    "I will now run this on all players and create a lookup dictionary to look up player type by player ID; this will speed up the later process of aggregating team ratings by type. *Note that the assumption here is that a player does not change his type on the field, therefore we just use the latest value for his skills to determine his type.*"
   ]
  },
  {
   "cell_type": "code",
   "execution_count": null,
   "metadata": {
    "scrolled": true
   },
   "outputs": [
    {
     "name": "stdout",
     "output_type": "stream",
     "text": [
      "Done with 1000 players\n",
      "Done with 2000 players\n",
      "Done with 3000 players\n",
      "Done with 4000 players\n",
      "Done with 5000 players\n",
      "Done with 6000 players\n",
      "Done with 7000 players\n",
      "Done with 8000 players\n",
      "Done with 9000 players\n",
      "Done with 10000 players\n",
      "Done with 11000 players\n",
      "Done creating the dictionary and wrote to file\n"
     ]
    }
   ],
   "source": [
    "unique_player_list = set(players_skills['player_api_id'].tolist())\n",
    "player_to_player_type_dict=dict()\n",
    "import Utils as Utils\n",
    "reload(Utils)\n",
    "import json\n",
    "\n",
    "# TODO: Move SKILL COLUMNS to Utils.py\n",
    "player_num = 0\n",
    "for player_api_id in unique_player_list:\n",
    "    player_num = player_num + 1\n",
    "    if player_num % 1000 == 0:\n",
    "        print (\"Done with \" + str(player_num) + \" players\")\n",
    "    player_to_player_type_dict[player_api_id] = players.player_api_id_to_player_type(players_skills=players_skills, \n",
    "                                                               COLUMNS_OF_INTEREST=Utils.SKILL_COLUMNS,\n",
    "                                                               player_api_id=player_api_id)\n",
    "with open('Data_Structures/player_to_player_type.json', 'w+') as outfile:\n",
    "     json.dump(player_to_player_type_dict, outfile, indent = 4,\n",
    "               ensure_ascii = False)\n",
    "print \"Done creating the dictionary and wrote to file\""
   ]
  },
  {
   "cell_type": "markdown",
   "metadata": {},
   "source": [
    "#### Get Average Player Ratings For Match\n",
    "Takes as an input a match, and returns back the ratings in the form of [midfielder_rating, attacker_rating, defender_rating, goalie_rating] for both the teams. Note that the ratings are based on the first ratings back in time I can find from that season; this is because every player has multiple ratings spread across time. For eg. for 2012-13, I will look for the date closest to Dec 31 2012 and take the player's ratings for that date.\n",
    "\n",
    "Sometimes, I observed a team has no attacking players (rare, but not impossible); a team might decide to just play defenders and midfielders. In that case, I assign the attacking rating as 0.\n",
    "\n",
    "#### Team rating without player\n",
    "Removes a particular player under consideration, and then randomly chooses any of the other 10 to replace him. Across a season or some amount of matches, this is to mimic how a team performs if a particular player is out injured for the season, or his impact on the team if he were to leave the team.\n",
    "\n",
    "Demonstrating the use of both APIs in the code cell below."
   ]
  },
  {
   "cell_type": "code",
   "execution_count": null,
   "metadata": {
    "collapsed": true,
    "scrolled": true
   },
   "outputs": [],
   "source": [
    "import matches as matches\n",
    "reload(matches)\n",
    "import players as players\n",
    "reload(players)\n",
    "from functools import partial\n",
    "import json\n",
    "import Utils as Utils\n",
    "reload(Utils)\n",
    "with open('Data_Structures/player_to_player_type.json') as data_file:    \n",
    "    player_to_player_type_dict = json.load(data_file)   \n",
    "player_types= Utils.PLAYER_TYPES\n",
    "# Just for generating features..\n",
    "\n",
    "player_types= ['Midfielder']\n",
    "team_types=['away', 'home']\n",
    "display(match_clean_data_df.head(n=1))\n",
    "\n",
    "# USE THIS TO COMBINE: https://stackoverflow.com/questions/19125091/pandas-merge-how-to-avoid-duplicating-columns --> #USE SUFFIXES\n",
    "FEATURE_COLUMNS = []\n",
    "for player_type_input in player_types:\n",
    "    for team_type in team_types:\n",
    "        FEATURE = team_type + \"_\" + player_type_input + \"_rating\"\n",
    "        FEATURE_COLUMNS.append(FEATURE)\n",
    "        print (\"Evaulating feature \" + FEATURE)\n",
    "        get_feature = partial(matches.single_match_rating,players_ratings_label=players_ratings_label, \n",
    "                             player_to_player_type_dict=player_to_player_type_dict, \n",
    "                              player_type_input=player_type_input, team_type=team_type)\n",
    "        match_clean_data_df[FEATURE] = match_clean_data_df.apply(get_feature, axis = 1)\n",
    "\n",
    "        COLUMNS_TO_SAVE = ['match_api_id', 'home_team_api_id', 'away_team_api_id', 'season', 'date', 'result_label'] + FEATURE_COLUMNS\n",
    "        display(match_clean_data_df[COLUMNS_TO_SAVE].head(n=10))\n",
    "        match_clean_data_df[COLUMNS_TO_SAVE].to_csv(\"match_features_so_far_3.csv\")"
   ]
  },
  {
   "cell_type": "markdown",
   "metadata": {},
   "source": [
    "### Form Number stats features generation\n",
    "### Here are the features I generated from the raw data, based on my intuition.\n",
    "\n",
    "- HOME TEAM ALL TIME HOME RECORD AND RECORD THIS SEASON THUS FAR\n",
    "- AWAY TEAM AWAY RECORD - ALL TIME AND THIS SEASON THUS FAR\n",
    "- AWAY TEAM AWAY RECORD AT THIS GROUND- ALL TIME\n",
    "- TEAMS HEAD TO HEAD\n",
    "- TEAM FORM GUIDE - last 5 matches,  DEFINE IT AS A STRING; and ENCODE TO CATEGORIAL VALUE - CATEGORIAL LABELS\n",
    "\n",
    "Order - the last match is at the front of the string; therefore if in this season, a team lost its last 2 matches and the won the three before those, form guide will be LLWWW.\n",
    "\n",
    "### Note that the code below is an example of how to use the APIs, I rant this code from the main of my function to generate these features."
   ]
  },
  {
   "cell_type": "code",
   "execution_count": null,
   "metadata": {
    "collapsed": true
   },
   "outputs": [],
   "source": [
    "from form_stats import *\n",
    "all_features_df = pd.read_csv('Data_Structures/MATCH_FEATURES.csv')\n",
    "FORM_STATS_FEATURES = ['match_api_id', 'home_team_api_id', 'away_team_api_id',\n",
    "                   'season', 'date', 'result_label']\n",
    "all_features_df['date'] = pd.to_datetime(all_features_df['date'])\n",
    "\n",
    "match_sample = all_features_df\n",
    "\n",
    "print \"Getting head to head home win rate\"\n",
    "get_head_to_head = partial(head_to_head, full_df=all_features_df, value = \"Home Win\")\n",
    "match_sample['HEAD_2_HEAD_HOME_TEAM_WINS'] = match_sample.apply(get_head_to_head, axis = 1)\n",
    "\n",
    "print \"Getting head to head home loss rate\"\n",
    "get_head_to_head = partial(head_to_head, full_df=all_features_df, value = \"Home Loss\")\n",
    "match_sample['HEAD_2_HEAD_HOME_TEAM_LOSS'] = match_sample.apply(get_head_to_head, axis = 1)\n",
    "\n",
    "print \"Getting head to head draw rate\"\n",
    "get_head_to_head = partial(head_to_head, full_df=all_features_df, value = \"Draw\")\n",
    "match_sample['HEAD_2_HEAD_DRAW'] = match_sample.apply(get_head_to_head, axis = 1)\n",
    "\n",
    "print \"Getting home win rate all time\"\n",
    "get_home_win_rate = partial(home_team_all_time_home_record, full_df=all_features_df)\n",
    "match_sample['HOME_WIN_RATE'] = match_sample.apply(get_home_win_rate, axis = 1)\n",
    "\n",
    "print \"Getting home win rate this season\"\n",
    "get_home_win_rate_this_season = partial(home_team_this_season_home_record, full_df=all_features_df)\n",
    "match_sample['HOME_WIN_RATE_THIS_SEASON'] = match_sample.apply(get_home_win_rate_this_season, axis = 1)\n",
    "\n",
    "print \"Getting away win rate all time\"\n",
    "get_away_win_rate = partial(away_team_all_time_away_record, full_df=all_features_df)\n",
    "match_sample['AWAY_WIN_RATE'] = match_sample.apply(get_away_win_rate, axis = 1)\n",
    "\n",
    "print \"Getting away win rate this season\"\n",
    "get_away_win_rate_this_season = partial(away_team_this_season_away_record, full_df=all_features_df)\n",
    "match_sample['AWAY_WIN_RATE_THIS_SEASON'] = match_sample.apply(get_away_win_rate_this_season, axis = 1)\n",
    "\n",
    "print \"Getting away team's win rate AT THIS GROUND\"\n",
    "get_away_win_rate_at_this_ground = partial(away_team_all_time_away_record_at_this_ground, full_df=all_features_df)\n",
    "match_sample['AWAY_WIN_RATE_AT_THIS_GROUND'] = match_sample.apply(get_away_win_rate_at_this_ground, axis = 1)\n",
    "\n",
    "\n",
    "match_sample.to_csv('Data_Structures/form_numbers.csv')"
   ]
  },
  {
   "cell_type": "markdown",
   "metadata": {},
   "source": [
    "### Top and bottom tier players\n",
    "\n",
    "Why do we need it? Often matches are won by a *brilliant player's moment of genius*; or a *bad player's mistake*. TODO: WRITE MORE WHY WE NEED THIS?\n",
    "\n",
    "#### Top 1% of the players \n",
    "Based on the histogram above, I will define a top player to be a player with overall_rating > 80.\n",
    "\n",
    "#### Bottom 1% of the players - analyze player distribution with histogram.\n",
    "Based on the histogram above, I will define a bottom player to be a player with overall_rating < 50."
   ]
  },
  {
   "cell_type": "code",
   "execution_count": null,
   "metadata": {
    "collapsed": true
   },
   "outputs": [],
   "source": [
    "import matches as matches\n",
    "reload(matches)\n",
    "from functools import partial\n",
    "\n",
    "match_sample_df = match_clean_data_df\n",
    "TOP_PLAYER_THRESHOLD = 80\n",
    "BOTTOM_PLAYER_THRESHOLD = 50\n",
    "COLUMNS_TO_SAVE = ['match_api_id']\n",
    "# In the code, I have a cache that maintains a mapping of a player to his rating by season. So a key is player_api_id; that points to \n",
    "# a dictionary that contains rating for that player by season\n",
    "\n",
    "print \"Getting top players home\"\n",
    "get_top_players_home = partial(matches.top_players_in_team, players_ratings_label=players_ratings_label, \n",
    "                               team_type='home', TOP_PLAYER_THRESHOLD = TOP_PLAYER_THRESHOLD)\n",
    "match_sample_df['num_top_players_home'] = match_sample_df.apply(get_top_players_home, axis = 1)\n",
    "COLUMNS_TO_SAVE.append('num_top_players_home')\n",
    "\n",
    "match_sample_df[COLUMNS_TO_SAVE].to_csv('Data_Structures/num_player_stats.csv')\n",
    "\n",
    "print \"Getting top players away\"\n",
    "get_top_players_away = partial(matches.top_players_in_team, players_ratings_label=players_ratings_label, \n",
    "                               team_type='away', TOP_PLAYER_THRESHOLD = TOP_PLAYER_THRESHOLD)\n",
    "match_sample_df['num_top_players_away'] = match_sample_df.apply(get_top_players_away, axis = 1)\n",
    "COLUMNS_TO_SAVE.append('num_top_players_away')\n",
    "\n",
    "match_sample_df[COLUMNS_TO_SAVE].to_csv('Data_Structures/num_player_stats.csv')\n",
    "\n",
    "print \"Getting bottom players home\"\n",
    "get_bottom_players_home = partial(matches.bottom_players_in_team, players_ratings_label=players_ratings_label, \n",
    "                               team_type='home', BOTTOM_PLAYER_THRESHOLD = BOTTOM_PLAYER_THRESHOLD)\n",
    "match_sample_df['num_bottom_players_home'] = match_sample_df.apply(get_bottom_players_home, axis = 1)\n",
    "COLUMNS_TO_SAVE.append('num_bottom_players_home')\n",
    "\n",
    "match_sample_df[COLUMNS_TO_SAVE].to_csv('Data_Structures/num_player_stats.csv')\n",
    "\n",
    "print \"Getting bottom players away\"\n",
    "get_bottom_players_away = partial(matches.bottom_players_in_team, players_ratings_label=players_ratings_label, \n",
    "                               team_type='away', BOTTOM_PLAYER_THRESHOLD = BOTTOM_PLAYER_THRESHOLD)\n",
    "match_sample_df['num_bottom_players_away'] = match_sample_df.apply(get_bottom_players_away, axis = 1)\n",
    "COLUMNS_TO_SAVE.append('num_bottom_players_away')\n",
    "\n",
    "\n",
    "match_sample_df[COLUMNS_TO_SAVE].to_csv('Data_Structures/num_player_stats.csv')\n",
    "print \"DONE\""
   ]
  },
  {
   "cell_type": "markdown",
   "metadata": {},
   "source": [
    "### Some notes about the feature process\n",
    "\n",
    "* **Learning pandas, lambdas and partial** - generating my intuition to features, required the use of knowing these.\n",
    "\n",
    "* Saving and re-working. I learnt it this the hard way; saving feature generation into apt csv files is VERY IMPORTANT, from time to time. MENTION HOW YOU USED DICTIONARIES TO SAVE YOUR WORK AND SPEED UP FEATURE GENERATION."
   ]
  },
  {
   "cell_type": "markdown",
   "metadata": {},
   "source": [
    "### Plotting some observations from the stats features\n",
    "Now that we have our features (phew!), lets see if we can see something. For example, here is FC Barcelona's home record with respect to time. For ease, I am getting a dictionary that maps name to team_api_id first; and then using the team_api_id to get the stats."
   ]
  },
  {
   "cell_type": "code",
   "execution_count": 19,
   "metadata": {},
   "outputs": [
    {
     "data": {
      "text/html": [
       "<div>\n",
       "<style>\n",
       "    .dataframe thead tr:only-child th {\n",
       "        text-align: right;\n",
       "    }\n",
       "\n",
       "    .dataframe thead th {\n",
       "        text-align: left;\n",
       "    }\n",
       "\n",
       "    .dataframe tbody tr th {\n",
       "        vertical-align: top;\n",
       "    }\n",
       "</style>\n",
       "<table border=\"1\" class=\"dataframe\">\n",
       "  <thead>\n",
       "    <tr style=\"text-align: right;\">\n",
       "      <th></th>\n",
       "      <th>match_api_id</th>\n",
       "      <th>num_top_players_home</th>\n",
       "      <th>num_top_players_away</th>\n",
       "      <th>num_bottom_players_home</th>\n",
       "      <th>num_bottom_players_away</th>\n",
       "      <th>home_team_api_id</th>\n",
       "      <th>away_team_api_id</th>\n",
       "      <th>season</th>\n",
       "      <th>date</th>\n",
       "      <th>result_label</th>\n",
       "      <th>...</th>\n",
       "      <th>HEAD_2_HEAD_HOME_TEAM_WINS</th>\n",
       "      <th>HEAD_2_HEAD_HOME_TEAM_LOSS</th>\n",
       "      <th>HEAD_2_HEAD_DRAW</th>\n",
       "      <th>HOME_WIN_RATE</th>\n",
       "      <th>HOME_WIN_RATE_THIS_SEASON</th>\n",
       "      <th>AWAY_WIN_RATE</th>\n",
       "      <th>AWAY_WIN_RATE_THIS_SEASON</th>\n",
       "      <th>AWAY_WIN_RATE_AT_THIS_GROUND</th>\n",
       "      <th>HOME_TEAM_FORM_GUIDE</th>\n",
       "      <th>AWAY_TEAM_FORM_GUIDE</th>\n",
       "    </tr>\n",
       "  </thead>\n",
       "  <tbody>\n",
       "    <tr>\n",
       "      <th>15264</th>\n",
       "      <td>1256352</td>\n",
       "      <td>0</td>\n",
       "      <td>0</td>\n",
       "      <td>0</td>\n",
       "      <td>0</td>\n",
       "      <td>10212</td>\n",
       "      <td>10215</td>\n",
       "      <td>2012/2013</td>\n",
       "      <td>9/30/12</td>\n",
       "      <td>AWAY_WIN</td>\n",
       "      <td>...</td>\n",
       "      <td>0.750000</td>\n",
       "      <td>0.000000</td>\n",
       "      <td>0.250000</td>\n",
       "      <td>0.416667</td>\n",
       "      <td>0.000000</td>\n",
       "      <td>0.184211</td>\n",
       "      <td>0.000000</td>\n",
       "      <td>0.000000</td>\n",
       "      <td>DDLWD</td>\n",
       "      <td>LLDLL</td>\n",
       "    </tr>\n",
       "    <tr>\n",
       "      <th>771</th>\n",
       "      <td>1677190</td>\n",
       "      <td>0</td>\n",
       "      <td>0</td>\n",
       "      <td>0</td>\n",
       "      <td>0</td>\n",
       "      <td>9991</td>\n",
       "      <td>9989</td>\n",
       "      <td>2013/2014</td>\n",
       "      <td>5/3/14</td>\n",
       "      <td>HOME_WIN</td>\n",
       "      <td>...</td>\n",
       "      <td>0.500000</td>\n",
       "      <td>0.500000</td>\n",
       "      <td>0.000000</td>\n",
       "      <td>0.574074</td>\n",
       "      <td>0.500000</td>\n",
       "      <td>0.083333</td>\n",
       "      <td>0.000000</td>\n",
       "      <td>0.000000</td>\n",
       "      <td>DWWLL</td>\n",
       "      <td>LLLDD</td>\n",
       "    </tr>\n",
       "    <tr>\n",
       "      <th>4401</th>\n",
       "      <td>483483</td>\n",
       "      <td>1</td>\n",
       "      <td>2</td>\n",
       "      <td>0</td>\n",
       "      <td>0</td>\n",
       "      <td>8639</td>\n",
       "      <td>8592</td>\n",
       "      <td>2008/2009</td>\n",
       "      <td>4/26/09</td>\n",
       "      <td>AWAY_WIN</td>\n",
       "      <td>...</td>\n",
       "      <td>0.297527</td>\n",
       "      <td>0.640812</td>\n",
       "      <td>0.061661</td>\n",
       "      <td>0.733333</td>\n",
       "      <td>0.733333</td>\n",
       "      <td>0.642857</td>\n",
       "      <td>0.642857</td>\n",
       "      <td>0.546939</td>\n",
       "      <td>LDWWW</td>\n",
       "      <td>WWWWW</td>\n",
       "    </tr>\n",
       "    <tr>\n",
       "      <th>6183</th>\n",
       "      <td>1468493</td>\n",
       "      <td>4</td>\n",
       "      <td>0</td>\n",
       "      <td>0</td>\n",
       "      <td>0</td>\n",
       "      <td>8592</td>\n",
       "      <td>9851</td>\n",
       "      <td>2013/2014</td>\n",
       "      <td>3/22/14</td>\n",
       "      <td>AWAY_WIN</td>\n",
       "      <td>...</td>\n",
       "      <td>0.500000</td>\n",
       "      <td>0.100000</td>\n",
       "      <td>0.400000</td>\n",
       "      <td>0.556604</td>\n",
       "      <td>0.500000</td>\n",
       "      <td>0.298077</td>\n",
       "      <td>0.214286</td>\n",
       "      <td>0.200000</td>\n",
       "      <td>DLLWD</td>\n",
       "      <td>LLLWD</td>\n",
       "    </tr>\n",
       "    <tr>\n",
       "      <th>14046</th>\n",
       "      <td>1983473</td>\n",
       "      <td>0</td>\n",
       "      <td>0</td>\n",
       "      <td>0</td>\n",
       "      <td>0</td>\n",
       "      <td>9803</td>\n",
       "      <td>8611</td>\n",
       "      <td>2015/2016</td>\n",
       "      <td>2/13/16</td>\n",
       "      <td>AWAY_WIN</td>\n",
       "      <td>...</td>\n",
       "      <td>0.090909</td>\n",
       "      <td>0.636364</td>\n",
       "      <td>0.272727</td>\n",
       "      <td>0.385542</td>\n",
       "      <td>0.272727</td>\n",
       "      <td>0.413793</td>\n",
       "      <td>0.000000</td>\n",
       "      <td>0.400000</td>\n",
       "      <td>DDWWL</td>\n",
       "      <td>WLLWL</td>\n",
       "    </tr>\n",
       "    <tr>\n",
       "      <th>2366</th>\n",
       "      <td>1024943</td>\n",
       "      <td>0</td>\n",
       "      <td>1</td>\n",
       "      <td>0</td>\n",
       "      <td>0</td>\n",
       "      <td>9850</td>\n",
       "      <td>10261</td>\n",
       "      <td>2011/2012</td>\n",
       "      <td>12/10/11</td>\n",
       "      <td>HOME_WIN</td>\n",
       "      <td>...</td>\n",
       "      <td>0.225397</td>\n",
       "      <td>0.612698</td>\n",
       "      <td>0.161905</td>\n",
       "      <td>0.428571</td>\n",
       "      <td>0.428571</td>\n",
       "      <td>0.227273</td>\n",
       "      <td>0.428571</td>\n",
       "      <td>0.000000</td>\n",
       "      <td>LWLLD</td>\n",
       "      <td>LDLWW</td>\n",
       "    </tr>\n",
       "    <tr>\n",
       "      <th>16021</th>\n",
       "      <td>490119</td>\n",
       "      <td>2</td>\n",
       "      <td>0</td>\n",
       "      <td>0</td>\n",
       "      <td>0</td>\n",
       "      <td>8548</td>\n",
       "      <td>9938</td>\n",
       "      <td>2008/2009</td>\n",
       "      <td>1/31/09</td>\n",
       "      <td>HOME_WIN</td>\n",
       "      <td>...</td>\n",
       "      <td>0.000000</td>\n",
       "      <td>0.000000</td>\n",
       "      <td>1.000000</td>\n",
       "      <td>0.818182</td>\n",
       "      <td>0.818182</td>\n",
       "      <td>0.300000</td>\n",
       "      <td>0.300000</td>\n",
       "      <td>0.000000</td>\n",
       "      <td>DWWLW</td>\n",
       "      <td>WLDDD</td>\n",
       "    </tr>\n",
       "    <tr>\n",
       "      <th>19836</th>\n",
       "      <td>1778115</td>\n",
       "      <td>0</td>\n",
       "      <td>7</td>\n",
       "      <td>0</td>\n",
       "      <td>0</td>\n",
       "      <td>8305</td>\n",
       "      <td>9906</td>\n",
       "      <td>2014/2015</td>\n",
       "      <td>10/26/14</td>\n",
       "      <td>AWAY_WIN</td>\n",
       "      <td>...</td>\n",
       "      <td>0.181818</td>\n",
       "      <td>0.545455</td>\n",
       "      <td>0.272727</td>\n",
       "      <td>0.433962</td>\n",
       "      <td>0.500000</td>\n",
       "      <td>0.381818</td>\n",
       "      <td>0.500000</td>\n",
       "      <td>0.333333</td>\n",
       "      <td>WDWLL</td>\n",
       "      <td>WLWWD</td>\n",
       "    </tr>\n",
       "    <tr>\n",
       "      <th>8450</th>\n",
       "      <td>1239508</td>\n",
       "      <td>0</td>\n",
       "      <td>0</td>\n",
       "      <td>0</td>\n",
       "      <td>0</td>\n",
       "      <td>8226</td>\n",
       "      <td>9904</td>\n",
       "      <td>2012/2013</td>\n",
       "      <td>9/23/12</td>\n",
       "      <td>HOME_WIN</td>\n",
       "      <td>...</td>\n",
       "      <td>0.333333</td>\n",
       "      <td>0.333333</td>\n",
       "      <td>0.333333</td>\n",
       "      <td>0.338462</td>\n",
       "      <td>0.000000</td>\n",
       "      <td>0.253968</td>\n",
       "      <td>1.000000</td>\n",
       "      <td>0.000000</td>\n",
       "      <td>LDWLD</td>\n",
       "      <td>LWLLW</td>\n",
       "    </tr>\n",
       "    <tr>\n",
       "      <th>17525</th>\n",
       "      <td>530341</td>\n",
       "      <td>7</td>\n",
       "      <td>5</td>\n",
       "      <td>0</td>\n",
       "      <td>0</td>\n",
       "      <td>8633</td>\n",
       "      <td>8302</td>\n",
       "      <td>2008/2009</td>\n",
       "      <td>12/7/08</td>\n",
       "      <td>AWAY_WIN</td>\n",
       "      <td>...</td>\n",
       "      <td>0.606803</td>\n",
       "      <td>0.393197</td>\n",
       "      <td>0.000000</td>\n",
       "      <td>1.000000</td>\n",
       "      <td>1.000000</td>\n",
       "      <td>0.400000</td>\n",
       "      <td>0.400000</td>\n",
       "      <td>0.370408</td>\n",
       "      <td>LLWDL</td>\n",
       "      <td>LDLLW</td>\n",
       "    </tr>\n",
       "  </tbody>\n",
       "</table>\n",
       "<p>10 rows × 28 columns</p>\n",
       "</div>"
      ],
      "text/plain": [
       "       match_api_id  num_top_players_home  num_top_players_away  \\\n",
       "15264       1256352                     0                     0   \n",
       "771         1677190                     0                     0   \n",
       "4401         483483                     1                     2   \n",
       "6183        1468493                     4                     0   \n",
       "14046       1983473                     0                     0   \n",
       "2366        1024943                     0                     1   \n",
       "16021        490119                     2                     0   \n",
       "19836       1778115                     0                     7   \n",
       "8450        1239508                     0                     0   \n",
       "17525        530341                     7                     5   \n",
       "\n",
       "       num_bottom_players_home  num_bottom_players_away  home_team_api_id  \\\n",
       "15264                        0                        0             10212   \n",
       "771                          0                        0              9991   \n",
       "4401                         0                        0              8639   \n",
       "6183                         0                        0              8592   \n",
       "14046                        0                        0              9803   \n",
       "2366                         0                        0              9850   \n",
       "16021                        0                        0              8548   \n",
       "19836                        0                        0              8305   \n",
       "8450                         0                        0              8226   \n",
       "17525                        0                        0              8633   \n",
       "\n",
       "       away_team_api_id     season      date result_label  \\\n",
       "15264             10215  2012/2013   9/30/12     AWAY_WIN   \n",
       "771                9989  2013/2014    5/3/14     HOME_WIN   \n",
       "4401               8592  2008/2009   4/26/09     AWAY_WIN   \n",
       "6183               9851  2013/2014   3/22/14     AWAY_WIN   \n",
       "14046              8611  2015/2016   2/13/16     AWAY_WIN   \n",
       "2366              10261  2011/2012  12/10/11     HOME_WIN   \n",
       "16021              9938  2008/2009   1/31/09     HOME_WIN   \n",
       "19836              9906  2014/2015  10/26/14     AWAY_WIN   \n",
       "8450               9904  2012/2013   9/23/12     HOME_WIN   \n",
       "17525              8302  2008/2009   12/7/08     AWAY_WIN   \n",
       "\n",
       "               ...           HEAD_2_HEAD_HOME_TEAM_WINS  \\\n",
       "15264          ...                             0.750000   \n",
       "771            ...                             0.500000   \n",
       "4401           ...                             0.297527   \n",
       "6183           ...                             0.500000   \n",
       "14046          ...                             0.090909   \n",
       "2366           ...                             0.225397   \n",
       "16021          ...                             0.000000   \n",
       "19836          ...                             0.181818   \n",
       "8450           ...                             0.333333   \n",
       "17525          ...                             0.606803   \n",
       "\n",
       "       HEAD_2_HEAD_HOME_TEAM_LOSS  HEAD_2_HEAD_DRAW  HOME_WIN_RATE  \\\n",
       "15264                    0.000000          0.250000       0.416667   \n",
       "771                      0.500000          0.000000       0.574074   \n",
       "4401                     0.640812          0.061661       0.733333   \n",
       "6183                     0.100000          0.400000       0.556604   \n",
       "14046                    0.636364          0.272727       0.385542   \n",
       "2366                     0.612698          0.161905       0.428571   \n",
       "16021                    0.000000          1.000000       0.818182   \n",
       "19836                    0.545455          0.272727       0.433962   \n",
       "8450                     0.333333          0.333333       0.338462   \n",
       "17525                    0.393197          0.000000       1.000000   \n",
       "\n",
       "       HOME_WIN_RATE_THIS_SEASON  AWAY_WIN_RATE  AWAY_WIN_RATE_THIS_SEASON  \\\n",
       "15264                   0.000000       0.184211                   0.000000   \n",
       "771                     0.500000       0.083333                   0.000000   \n",
       "4401                    0.733333       0.642857                   0.642857   \n",
       "6183                    0.500000       0.298077                   0.214286   \n",
       "14046                   0.272727       0.413793                   0.000000   \n",
       "2366                    0.428571       0.227273                   0.428571   \n",
       "16021                   0.818182       0.300000                   0.300000   \n",
       "19836                   0.500000       0.381818                   0.500000   \n",
       "8450                    0.000000       0.253968                   1.000000   \n",
       "17525                   1.000000       0.400000                   0.400000   \n",
       "\n",
       "       AWAY_WIN_RATE_AT_THIS_GROUND  HOME_TEAM_FORM_GUIDE  \\\n",
       "15264                      0.000000                 DDLWD   \n",
       "771                        0.000000                 DWWLL   \n",
       "4401                       0.546939                 LDWWW   \n",
       "6183                       0.200000                 DLLWD   \n",
       "14046                      0.400000                 DDWWL   \n",
       "2366                       0.000000                 LWLLD   \n",
       "16021                      0.000000                 DWWLW   \n",
       "19836                      0.333333                 WDWLL   \n",
       "8450                       0.000000                 LDWLD   \n",
       "17525                      0.370408                 LLWDL   \n",
       "\n",
       "       AWAY_TEAM_FORM_GUIDE  \n",
       "15264                 LLDLL  \n",
       "771                   LLLDD  \n",
       "4401                  WWWWW  \n",
       "6183                  LLLWD  \n",
       "14046                 WLLWL  \n",
       "2366                  LDLWW  \n",
       "16021                 WLDDD  \n",
       "19836                 WLWWD  \n",
       "8450                  LWLLW  \n",
       "17525                 LDLLW  \n",
       "\n",
       "[10 rows x 28 columns]"
      ]
     },
     "metadata": {},
     "output_type": "display_data"
    },
    {
     "data": {
      "text/plain": [
       "(array([ 733408.,  733773.,  734138.,  734503.,  734869.,  735234.,\n",
       "         735599.,  735964.]), <a list of 8 Text xticklabel objects>)"
      ]
     },
     "execution_count": 19,
     "metadata": {},
     "output_type": "execute_result"
    },
    {
     "data": {
      "image/png": "[encoded data removed]",
      "text/plain": [
       "<matplotlib.figure.Figure at 0x10bd5af10>"
      ]
     },
     "metadata": {},
     "output_type": "display_data"
    }
   ],
   "source": [
    "import data_preprocess as dp\n",
    "reload(dp)\n",
    "import pandas as pd\n",
    "match_features_all_df = pd.read_csv('Data_Structures/FINAL_ALL_FEATURES_NO_NAN.csv')\n",
    "display(match_features_all_df.sample(n=10))\n",
    "\n",
    "team_df = sql_to_dataframe(conn, select_all_query_table(\"Team\"))\n",
    "team_name_to_id_dict = dp.get_team_name_to_team_api_id_dict(team_df)\n",
    "CLUB = 'FC Barcelona'\n",
    "barca_api_id = (int(team_name_to_id_dict[CLUB]))\n",
    "\n",
    "\n",
    "# Factor this out into a function.\n",
    "barca_top_players_num = match_features_all_df[match_features_all_df['home_team_api_id'] == barca_api_id]\n",
    "\n",
    "barca_top_players_num.date = pd.to_datetime(barca_top_players_num.date)\n",
    "barca_top_players_num = barca_top_players_num.sort_values('date', ascending=True)\n",
    "barca_top_players_num=barca_top_players_num.dropna(how='any')\n",
    "plt.plot(barca_top_players_num['date'], barca_top_players_num['num_top_players_home'])\n",
    "plt.xticks(rotation='vertical')"
   ]
  },
  {
   "cell_type": "markdown",
   "metadata": {},
   "source": [
    "\n",
    "### Filling the NaN values\n",
    "* **The NaN case**- As shown in the feature definitions below, what if we don't have the history to get those stats? For eg. if this is the first team these teams are meeting (as per our data); we cannot say what the home to home stats are. Similary for form guide, I need *atleast five matches* to get a good estimate. When such history was not avaialble, I replaced the value with np.nan. Now to fill these NaN Valyes up, I could use the [Imputer method](http://scikit-learn.org/stable/modules/generated/sklearn.preprocessing.Imputer.html) given by scikit, however decided to just implement my own logic. The reason is that I want to have some logic in replacing the NaN values, for example:\n",
    "\n",
    "    - For a team's home record that season, I will take the mean of the other values for the season. Note that only the first entry will be missing in this case for a team (the first home game of the season).\n",
    "    - For head to head, I will replace np.na with the most common form guide for that team that season.\n",
    "    \n",
    "# TODO: Elaborate more on your fill nan strategies..\n",
    "\n",
    "* HEAD_2_HEAD_HOME_TEAM_WINS, HEAD_2_HEAD_HOME_TEAM_LOSS, HEAD_2_HEAD_DRAW : Take all head to head matches, and replace np.nan with the mean of all non nan values. It is possible that some teams have NEVER played before, in which case I will just randomly assign a value of 0.33 to each of the three events (equal probability of happening).\n",
    "\n",
    "* AWAY_WIN_RATE_AT_THIS_GROUND : Find all samples where this team played away at this home team's ground; and take average. If this team has never played here; just take the average of its all time away record. Note that this is rare, but possible. If this team has never played away other than this ins\n",
    "##### Of course I could throw out this data that is na for my features, but the idea of throwing out data broke my heart...\n",
    "\n",
    "## NOTE: I VALIDATE NO NaNs are left, using 'isnull.values.any' after each column\n",
    "\n",
    "## Here is the list of all possibilities for form guide. If there is a nan, and there is no other data for that team, I will randomly replace with one of the 243 possibilities. (3 options for 5 matches, 3^5)"
   ]
  },
  {
   "cell_type": "code",
   "execution_count": 2,
   "metadata": {
    "collapsed": true
   },
   "outputs": [],
   "source": [
    "import itertools\n",
    "all_possibilities_form_guide = list(itertools.product(['L', 'W', 'D'], repeat=5))\n",
    "all_possibilities_form_guide_string_list = list()\n",
    "for possibility in all_possibilities_form_guide:\n",
    "    all_possibilities_form_guide_string_list.append(''.join(possibility))\n",
    "#print all_possibilities_form_guide_string_list\n",
    "assert len(all_possibilities_form_guide_string_list) == 243"
   ]
  },
  {
   "cell_type": "code",
   "execution_count": 131,
   "metadata": {},
   "outputs": [
    {
     "data": {
      "text/plain": [
       "(21374, 9)"
      ]
     },
     "metadata": {},
     "output_type": "display_data"
    },
    {
     "name": "stdout",
     "output_type": "stream",
     "text": [
      "Filling NaN for home_team_form_guide\n",
      "Filling NaN for away_team_form_guide\n",
      "Filling NaN for away_team_win_rate_at_this_ground\n",
      "Filling NaN for head to head home win rate\n",
      "Filling NaN for head to head home loss rate\n",
      "Filling NaN for head to head draw rate\n",
      "Filling NaN for home team all time win rate\n",
      "Filling NaN for away team all time win rate\n",
      "Filling NaN for home team win rate this season\n",
      "Filling NaN for away team win rate this season\n",
      "Filling NaN for away team win rate at this ground\n"
     ]
    },
    {
     "data": {
      "text/plain": [
       "(21374, 9)"
      ]
     },
     "metadata": {},
     "output_type": "display_data"
    }
   ],
   "source": [
    "from functools import partial\n",
    "#match_features_sample = match_features_all_df[match_features_all_df['match_api_id']==493017]\n",
    "match_features_sample = match_features_all_df\n",
    "COLUMNS_TO_NAN_FILL= ['HEAD_2_HEAD_HOME_TEAM_WINS', 'HEAD_2_HEAD_HOME_TEAM_LOSS', 'HEAD_2_HEAD_DRAW', 'HOME_WIN_RATE',\n",
    "                     'AWAY_WIN_RATE', 'AWAY_WIN_RATE_AT_THIS_GROUND', 'AWAY_WIN_RATE_THIS_SEASON', 'HOME_TEAM_FORM_GUIDE',\n",
    "                     'AWAY_TEAM_FORM_GUIDE']\n",
    "\n",
    "\n",
    "import nan_filler as nf\n",
    "reload(nf)\n",
    "display(match_features_sample[COLUMNS_TO_NAN_FILL].shape)\n",
    "print \"Filling NaN for home_team_form_guide\"\n",
    "nan_fill_home_team_form_guide = partial(nf.fill_nan_form_guide, full_df=match_features_all_df, team_type='home', \n",
    "                                        all_possibility=all_possibilities_form_guide_string_list)\n",
    "match_features_sample['HOME_TEAM_FORM_GUIDE'] = match_features_sample.apply(nan_fill_home_team_form_guide, axis = 1)\n",
    "\n",
    "print \"Filling NaN for away_team_form_guide\"\n",
    "nan_fill_away_team_form_guide = partial(nf.fill_nan_form_guide, full_df=match_features_all_df, team_type='away',\n",
    "                                       all_possibility=all_possibilities_form_guide_string_list)\n",
    "match_features_sample['AWAY_TEAM_FORM_GUIDE'] = match_features_sample.apply(nan_fill_away_team_form_guide, axis = 1)\n",
    "\n",
    "print \"Filling NaN for away_team_win_rate_at_this_ground\"\n",
    "nan_fill_away_team_win_rate_at_this_ground = partial(nf.fill_nan_away_team_win_rate_all_time_at_this_ground, full_df=match_features_all_df)\n",
    "match_features_sample['AWAY_WIN_RATE_AT_THIS_GROUND'] = match_features_sample.apply(nan_fill_away_team_win_rate_at_this_ground, axis = 1)\n",
    "\n",
    "print \"Filling NaN for head to head home win rate\"\n",
    "nan_fill_head_to_head_wins = partial(nf.fill_nan_head_2_head_home_team_win_rate, full_df=match_features_all_df)\n",
    "match_features_sample['HEAD_2_HEAD_HOME_TEAM_WINS'] = match_features_sample.apply(nan_fill_head_to_head_wins, axis = 1)\n",
    "    \n",
    "print \"Filling NaN for head to head home loss rate\"\n",
    "nan_fill_head_to_head_loss = partial(nf.fill_nan_head_2_head_home_team_loss_rate, full_df=match_features_all_df)\n",
    "match_features_sample['HEAD_2_HEAD_HOME_TEAM_LOSS'] = match_features_sample.apply(nan_fill_head_to_head_loss, axis = 1)\n",
    "    \n",
    "print \"Filling NaN for head to head draw rate\"\n",
    "nan_fill_head_to_head_draw = partial(nf.fill_nan_head_2_head_draw, full_df=match_features_all_df)\n",
    "match_features_sample['HEAD_2_HEAD_DRAW'] = match_features_sample.apply(nan_fill_head_to_head_draw, axis = 1)\n",
    "    \n",
    "print \"Filling NaN for home team all time win rate\"\n",
    "nan_fill_home_team_win_rate_all_time = partial(nf.fill_nan_home_team_win_rate_all_time, full_df=match_features_all_df)\n",
    "match_features_sample['HOME_WIN_RATE'] = match_features_sample.apply(nan_fill_home_team_win_rate_all_time, axis = 1)\n",
    "\n",
    "print \"Filling NaN for away team all time win rate\"\n",
    "nan_fill_away_team_win_rate_all_time = partial(nf.fill_nan_away_team_win_rate_all_time, full_df=match_features_all_df)\n",
    "match_features_sample['AWAY_WIN_RATE'] = match_features_sample.apply(nan_fill_away_team_win_rate_all_time, axis = 1)\n",
    "\n",
    "\n",
    "print \"Filling NaN for home team win rate this season\"\n",
    "nan_fill_home_team_win_rate_this_season = partial(nf.fill_nan_home_team_win_rate_this_season, full_df=match_features_all_df)\n",
    "match_features_sample['HOME_WIN_RATE_THIS_SEASON'] = match_features_sample.apply(nan_fill_home_team_win_rate_this_season, axis = 1)\n",
    "\n",
    "print \"Filling NaN for away team win rate this season\"\n",
    "nan_fill_away_team_win_rate_this_season = partial(nf.fill_nan_away_team_win_rate_this_season, full_df=match_features_all_df)\n",
    "match_features_sample['AWAY_WIN_RATE_THIS_SEASON'] = match_features_sample.apply(nan_fill_away_team_win_rate_this_season, axis = 1)\n",
    "\n",
    "print \"Filling NaN for away team win rate at this ground\"\n",
    "nan_fill_away_team_win_rate_at_this_ground = partial(nf.fill_nan_away_team_win_rate_all_time_at_this_ground, full_df=match_features_all_df)\n",
    "match_features_sample['AWAY_WIN_RATE_AT_THIS_GROUND'] = match_features_sample.apply(nan_fill_away_team_win_rate_at_this_ground, axis = 1)\n",
    "\n",
    "\n",
    "display(match_features_sample[COLUMNS_TO_NAN_FILL].shape)\n",
    "\n",
    "for column in COLUMNS_TO_NAN_FILL:\n",
    "    if (match_features_sample[column].isnull().values.any()):\n",
    "        print (column)\n",
    "        raise Exception\n",
    "\n",
    "match_features_sample.to_csv('FINAL_ALL_FEATURES_NO_NAN.csv')\n",
    "\n"
   ]
  },
  {
   "cell_type": "markdown",
   "metadata": {},
   "source": [
    "## Almost there..\n",
    "\n",
    "Phew! Generating features was fun (and tedious). Now just need to do the following steps..\n",
    "\n",
    "### Convert form guide to labelled\n",
    "### One hot encode the output labels.\n",
    "### Drop metadata such as match_api_id, home_team_api_id etc."
   ]
  },
  {
   "cell_type": "code",
   "execution_count": 8,
   "metadata": {},
   "outputs": [
    {
     "data": {
      "text/plain": [
       "(21374, 23)"
      ]
     },
     "metadata": {},
     "output_type": "display_data"
    },
    {
     "data": {
      "text/plain": [
       "(21360, 23)"
      ]
     },
     "metadata": {},
     "output_type": "display_data"
    },
    {
     "data": {
      "text/plain": [
       "num_top_players_home              int64\n",
       "num_top_players_away              int64\n",
       "num_bottom_players_home           int64\n",
       "num_bottom_players_away           int64\n",
       "away_Attacker_rating            float64\n",
       "home_Attacker_rating            float64\n",
       "away_Defender_rating            float64\n",
       "home_Defender_rating            float64\n",
       "away_Goalkeeper_rating          float64\n",
       "home_Goalkeeper_rating          float64\n",
       "away_Midfielder_rating          float64\n",
       "home_Midfielder_rating          float64\n",
       "HEAD_2_HEAD_HOME_TEAM_WINS      float64\n",
       "HEAD_2_HEAD_HOME_TEAM_LOSS      float64\n",
       "HEAD_2_HEAD_DRAW                float64\n",
       "HOME_WIN_RATE                   float64\n",
       "HOME_WIN_RATE_THIS_SEASON       float64\n",
       "AWAY_WIN_RATE                   float64\n",
       "AWAY_WIN_RATE_THIS_SEASON       float64\n",
       "AWAY_WIN_RATE_AT_THIS_GROUND    float64\n",
       "HOME_TEAM_FORM_GUIDE              int64\n",
       "AWAY_TEAM_FORM_GUIDE              int64\n",
       "dtype: object"
      ]
     },
     "metadata": {},
     "output_type": "display_data"
    }
   ],
   "source": [
    "import pandas as pd\n",
    "from IPython.display import display\n",
    "final_all_features = pd.read_csv('Data_Structures/FINAL_ALL_FEATURES_NO_NAN.csv')\n",
    "\n",
    "\n",
    "# Drop metadata\n",
    "META_COLUMNS=['match_api_id', 'home_team_api_id', 'away_team_api_id', 'season', 'date']\n",
    "\n",
    "\n",
    "final_all_features = final_all_features.drop(META_COLUMNS, axis =1)\n",
    "\n",
    "# Drop na\n",
    "display(final_all_features.shape)\n",
    "final_all_features = final_all_features.dropna(axis = 0, how = 'any')\n",
    "display(final_all_features.shape)\n",
    "\n",
    "## Convert form guide to labelled\n",
    "from sklearn import preprocessing\n",
    "le = preprocessing.LabelEncoder()\n",
    "le.fit(all_possibilities_form_guide_string_list)\n",
    "final_all_features['HOME_TEAM_FORM_GUIDE'] = le.transform(final_all_features['HOME_TEAM_FORM_GUIDE'])\n",
    "final_all_features['AWAY_TEAM_FORM_GUIDE'] = le.transform(final_all_features['AWAY_TEAM_FORM_GUIDE'])\n",
    "\n",
    "\n",
    "LABELS = ['HOME_WIN', 'AWAY_WIN', 'DRAW']\n",
    "le.fit(LABELS)\n",
    "transformed_labels = le.transform(final_all_features['result_label'])\n",
    "\n",
    "# Draw features and labels\n",
    "le_draw = preprocessing.LabelEncoder()\n",
    "DRAW_LABELS = ['HOME_WIN', 'AWAY_WIN']\n",
    "le_draw.fit(DRAW_LABELS)\n",
    "final_all_features_no_draws = final_all_features[final_all_features['result_label'] != 'DRAW']\n",
    "transformed_labels_no_draws = le_draw.transform(final_all_features_no_draws['result_label'])\n",
    "\n",
    "final_all_features = final_all_features.drop(['result_label'], axis =1)\n",
    "final_all_features_no_draws = final_all_features_no_draws.drop(['result_label'], axis =1)\n",
    "\n",
    "display(final_all_features.dtypes)\n"
   ]
  },
  {
   "cell_type": "markdown",
   "metadata": {},
   "source": [
    "### Notes about the datatypes of the features GO HERE"
   ]
  },
  {
   "cell_type": "markdown",
   "metadata": {},
   "source": [
    "# Model Fitting and Optimization\n",
    "\n",
    "Now that we have our features (phew!) all encoded, and ready to go; we can try various classifiers. First, I will shuffle and split the data. \n",
    "\n",
    "## Need to scale? Don't think so, write about it.\n",
    "\n",
    "# TODO: ANalyse the NA cases, why?!\n",
    "\n",
    "# TODO: Quickly based on Customer Segments, do feature analysis for Players\n",
    "\n",
    "# NOTE: Acknowledgement: Some code is based on charity ML's code"
   ]
  },
  {
   "cell_type": "markdown",
   "metadata": {},
   "source": [
    "### Shuffle and split"
   ]
  },
  {
   "cell_type": "code",
   "execution_count": 9,
   "metadata": {},
   "outputs": [
    {
     "name": "stdout",
     "output_type": "stream",
     "text": [
      "Training set has 17088 samples.\n",
      "Testing set has 4272 samples.\n"
     ]
    }
   ],
   "source": [
    "\n",
    "# Import train_test_split\n",
    "from sklearn.cross_validation import train_test_split\n",
    "\n",
    "# Split the 'features' and 'income' data into training and testing sets\n",
    "X_train, X_test, y_train, y_test = train_test_split(final_all_features, \n",
    "                                                    transformed_labels, \n",
    "                                                    test_size = 0.2, \n",
    "                                                    random_state = 0)\n",
    "\n",
    "# Show the results of the split\n",
    "print \"Training set has {} samples.\".format(X_train.shape[0])\n",
    "print \"Testing set has {} samples.\".format(X_test.shape[0])"
   ]
  },
  {
   "cell_type": "markdown",
   "metadata": {},
   "source": [
    "# TODO: DEFINE F SCORE FOR NAIVE CASE\n",
    "### A training and predicting pipeline\n",
    "\n",
    "### DEFINING A MULTI CLASS F SCORE\n"
   ]
  },
  {
   "cell_type": "code",
   "execution_count": 10,
   "metadata": {
    "collapsed": true
   },
   "outputs": [],
   "source": [
    "# TODO: Import two metrics from sklearn - fbeta_score and accuracy_score\n",
    "from sklearn.metrics import fbeta_score\n",
    "from sklearn.metrics import accuracy_score\n",
    "\n",
    "def train_predict(learner, sample_size, X_train, y_train, X_test, y_test): \n",
    "    '''\n",
    "    inputs:\n",
    "       - learner: the learning algorithm to be trained and predicted on\n",
    "       - sample_size: the size of samples (number) to be drawn from training set\n",
    "       - X_train: features training set\n",
    "       - y_train: income training set\n",
    "       - X_test: features testing set\n",
    "       - y_test: income testing set\n",
    "    '''\n",
    "    \n",
    "    results = {}\n",
    "    \n",
    "    # TODO: Fit the learner to the training data using slicing with 'sample_size' using .fit(training_features[:], training_labels[:])\n",
    "    start = time() # Get start time\n",
    "    learner = learner.fit(X_train[:sample_size], y_train[:sample_size])\n",
    "    end = time() # Get end time\n",
    "    \n",
    "    # TODO: Calculate the training time\n",
    "    results['train_time'] = end - start\n",
    "        \n",
    "    # TODO: Get the predictions on the test set(X_test),\n",
    "    #       then get predictions on the first 300 training samples(X_train) using .predict()\n",
    "    start = time() # Get start time\n",
    "    predictions_test = clf.predict(X_test)\n",
    "    predictions_train = clf.predict(X_train[:300])\n",
    "    end = time() # Get end time\n",
    "    \n",
    "    # TODO: Calculate the total prediction time\n",
    "    results['pred_time'] = end - start\n",
    "            \n",
    "    # TODO: Compute accuracy on the first 300 training samples which is y_train[:300]\n",
    "    results['acc_train'] = accuracy_score(y_train[:300], predictions_train)\n",
    "        \n",
    "    # TODO: Compute accuracy on test set using accuracy_score()\n",
    "    results['acc_test'] = accuracy_score(y_test, predictions_test)\n",
    "    \n",
    "    \n",
    "    betaValue = 0.5\n",
    "    \n",
    "    \n",
    "    # TODO: Compute F-score on the the first 300 training samples using fbeta_score()\n",
    "    results['f_train'] = fbeta_score(y_train[:300], predictions_train, beta=betaValue,\n",
    "                                     average='weighted')\n",
    "        \n",
    "    # TODO: Compute F-score on the test set which is y_test\n",
    "    results['f_test'] = fbeta_score(y_test, predictions_test, beta=betaValue, \n",
    "                                    average='weighted')\n",
    "       \n",
    "    # Success\n",
    "    print \"{} trained on {} samples.\".format(learner.__class__.__name__, sample_size)\n",
    "        \n",
    "    # Return the results\n",
    "    return results"
   ]
  },
  {
   "cell_type": "markdown",
   "metadata": {},
   "source": [
    "### Initial Model Evaluation\n",
    "# TODO: DEFINE A MULTI CLASS F SCORE; ALSO DO FOR THE NAIVE CASE\n",
    "# TODO: READ ABOUT MULTI LABEL CLASSIFICATION\n",
    "# TODO: PREDICT GOAL DIFF, SCORES?"
   ]
  },
  {
   "cell_type": "code",
   "execution_count": 11,
   "metadata": {},
   "outputs": [
    {
     "name": "stdout",
     "output_type": "stream",
     "text": [
      "MLPClassifier trained on 170 samples.\n"
     ]
    },
    {
     "name": "stderr",
     "output_type": "stream",
     "text": [
      "/Users/sa.goyal/anaconda/lib/python2.7/site-packages/sklearn/metrics/classification.py:1113: UndefinedMetricWarning: F-score is ill-defined and being set to 0.0 in labels with no predicted samples.\n",
      "  'precision', 'predicted', average, warn_for)\n"
     ]
    },
    {
     "name": "stdout",
     "output_type": "stream",
     "text": [
      "MLPClassifier trained on 1708 samples.\n",
      "MLPClassifier trained on 17088 samples.\n",
      "AdaBoostClassifier trained on 170 samples.\n",
      "AdaBoostClassifier trained on 1708 samples.\n",
      "AdaBoostClassifier trained on 17088 samples.\n"
     ]
    },
    {
     "data": {
      "image/png": "[encoded data removed]",
      "text/plain": [
       "<matplotlib.figure.Figure at 0x110756790>"
      ]
     },
     "metadata": {},
     "output_type": "display_data"
    }
   ],
   "source": [
    "\n",
    "# TODO: Import the three supervised learning models from sklearn\n",
    "from sklearn import tree\n",
    "from sklearn.ensemble import AdaBoostClassifier\n",
    "from sklearn.neighbors import KNeighborsClassifier\n",
    "from sklearn.naive_bayes import GaussianNB\n",
    "from sklearn.svm import LinearSVC\n",
    "from sklearn.neural_network import MLPClassifier\n",
    "\n",
    "from math import floor\n",
    "import visuals_udacity as vs\n",
    "# TODO: Initialize the three models\n",
    "clf_A = GaussianNB()\n",
    "# Initializing with n_neighbors = 3\n",
    "# TODO: Check deep learning\n",
    "clf_B = MLPClassifier(solver='lbfgs', alpha=1e-5,\n",
    "                   hidden_layer_sizes=(15, 15), random_state=1)\n",
    "clf_C = AdaBoostClassifier(base_estimator=tree.DecisionTreeClassifier(max_depth=1),\n",
    "                         algorithm=\"SAMME.R\",\n",
    "                         n_estimators=1000, random_state = 1)\n",
    "\n",
    "# TODO: Calculate the number of samples for 1%, 10%, and 100% of the training data\n",
    "# HINT: samples_100 is the entire training set i.e. len(y_train)\n",
    "# HINT: samples_10 is 10% of samples_100\n",
    "# HINT: samples_1 is 1% of samples_100\n",
    "samples_100 = len(y_train)\n",
    "samples_10 = int(.10 * len(y_train))\n",
    "samples_1 = int(.01 * len(y_train))\n",
    "\n",
    "# Collect results on the learners\n",
    "results = {}\n",
    "for clf in [clf_B, clf_C]:\n",
    "    clf_name = clf.__class__.__name__\n",
    "    results[clf_name] = {}\n",
    "    for i, samples in enumerate([samples_1, samples_10, samples_100]):\n",
    "        results[clf_name][i] = train_predict(clf, samples, X_train, y_train, X_test, y_test)\n",
    "# Run metrics visualization for the three supervised learning models chosen\n",
    "DUMMY_BASE_ACCURACY = 0.46\n",
    "DUMMY_BASE_F_SCORE = 0.1\n",
    "vs.evaluate(results, DUMMY_BASE_ACCURACY, DUMMY_BASE_F_SCORE)"
   ]
  },
  {
   "cell_type": "code",
   "execution_count": 12,
   "metadata": {},
   "outputs": [
    {
     "name": "stdout",
     "output_type": "stream",
     "text": [
      "[ 0.01   0.005  0.003  0.002  0.045  0.051  0.052  0.086  0.026  0.034\n",
      "  0.083  0.099  0.026  0.018  0.038  0.074  0.032  0.083  0.025  0.108\n",
      "  0.055  0.045]\n"
     ]
    },
    {
     "data": {
      "image/png": "[encoded data removed]",
      "text/plain": [
       "<matplotlib.figure.Figure at 0x10ff63750>"
      ]
     },
     "metadata": {},
     "output_type": "display_data"
    },
    {
     "name": "stdout",
     "output_type": "stream",
     "text": [
      "{0: {'pred_time': 0.003329038619995117, 'f_test': 0.36701769190701561, 'train_time': 0.15523505210876465, 'acc_train': 0.54666666666666663, 'acc_test': 0.46980337078651685, 'f_train': 0.44648671577032722}, 1: {'pred_time': 0.0022339820861816406, 'f_test': 0.40050617233522623, 'train_time': 0.3141500949859619, 'acc_train': 0.56333333333333335, 'acc_test': 0.5105337078651685, 'f_train': 0.44945088797844923}, 2: {'pred_time': 0.003743886947631836, 'f_test': 0.40574135652608212, 'train_time': 2.9191689491271973, 'acc_train': 0.57666666666666666, 'acc_test': 0.52200374531835203, 'f_train': 0.4612915732634042}}\n"
     ]
    }
   ],
   "source": [
    "reload(vs)\n",
    "print clf_C.feature_importances_\n",
    "vs.feature_plot(clf_C.feature_importances_, X_train, y_train)\n",
    "print results['MLPClassifier']"
   ]
  },
  {
   "cell_type": "markdown",
   "metadata": {},
   "source": [
    "### Ah, all that work..\n",
    "\n",
    "Seems that the features number of top players home/away, num of bottom players home/away are not useful at all. Lets drop the correlation matrix between the features."
   ]
  },
  {
   "cell_type": "code",
   "execution_count": 13,
   "metadata": {},
   "outputs": [
    {
     "data": {
      "text/plain": [
       "<matplotlib.axes._subplots.AxesSubplot at 0x11238ec10>"
      ]
     },
     "execution_count": 13,
     "metadata": {},
     "output_type": "execute_result"
    },
    {
     "data": {
      "image/png": "[encoded data removed]",
      "text/plain": [
       "<matplotlib.figure.Figure at 0x11238e3d0>"
      ]
     },
     "metadata": {},
     "output_type": "display_data"
    }
   ],
   "source": [
    "import seaborn as sns\n",
    "corr = X_train.corr()\n",
    "sns.heatmap(corr, mask=np.zeros_like(corr, dtype=np.bool), cmap=sns.diverging_palette(220, 10, as_cmap=True),\n",
    "            square=True)"
   ]
  },
  {
   "cell_type": "markdown",
   "metadata": {},
   "source": [
    "### Plot R2 scores!"
   ]
  },
  {
   "cell_type": "markdown",
   "metadata": {},
   "source": [
    "#### Confusion Matrix\n",
    "In the code cell below, I plot the confusion matrix for both the base case (always predicting a HOME_WIN); and a confusion matrix for the AdaBoost Classifier."
   ]
  },
  {
   "cell_type": "code",
   "execution_count": 14,
   "metadata": {},
   "outputs": [
    {
     "name": "stdout",
     "output_type": "stream",
     "text": [
      "******************************************************************\n",
      "Confusion matrix for base case\n",
      "Normalized confusion matrix\n",
      "[[ 0.  0.  1.]\n",
      " [ 0.  0.  1.]\n",
      " [ 0.  0.  1.]]\n",
      "******************************************************************\n",
      "Confusion matrix for AdaBoost classifier\n",
      "Normalized confusion matrix\n",
      "[[ 0.51  0.08  0.42]\n",
      " [ 0.23  0.12  0.66]\n",
      " [ 0.14  0.06  0.8 ]]\n"
     ]
    },
    {
     "data": {
      "image/png": "[encoded data removed]",
      "text/plain": [
       "<matplotlib.figure.Figure at 0x112751510>"
      ]
     },
     "metadata": {},
     "output_type": "display_data"
    },
    {
     "data": {
      "image/png": "[encoded data removed]",
      "text/plain": [
       "<matplotlib.figure.Figure at 0x1127beb10>"
      ]
     },
     "metadata": {},
     "output_type": "display_data"
    }
   ],
   "source": [
    "from sklearn.metrics import confusion_matrix\n",
    "import matplotlib.pyplot as plt\n",
    "\n",
    "def plot_confusion_matrix(cm, classes,\n",
    "                          normalize=False,\n",
    "                          title='Confusion matrix',\n",
    "                          cmap=plt.cm.Blues):\n",
    "    \"\"\"\n",
    "    This function prints and plots the confusion matrix.\n",
    "    Normalization can be applied by setting `normalize=True`.\n",
    "    \"\"\"\n",
    "    if normalize:\n",
    "        cm = cm.astype('float') / cm.sum(axis=1)[:, np.newaxis]\n",
    "        print(\"Normalized confusion matrix\")\n",
    "    else:\n",
    "        print('Confusion matrix, without normalization')\n",
    "\n",
    "    print(cm)\n",
    "\n",
    "    plt.imshow(cm, interpolation='nearest', cmap=cmap)\n",
    "    plt.title(title)\n",
    "    plt.colorbar()\n",
    "    tick_marks = np.arange(len(classes))\n",
    "    plt.xticks(tick_marks, classes, rotation=45)\n",
    "    plt.yticks(tick_marks, classes)\n",
    "\n",
    "    fmt = '.2f' if normalize else 'd'\n",
    "    thresh = cm.max() / 2.\n",
    "    for i, j in itertools.product(range(cm.shape[0]), range(cm.shape[1])):\n",
    "        plt.text(j, i, format(cm[i, j], fmt),\n",
    "                 horizontalalignment=\"center\",\n",
    "                 color=\"white\" if cm[i, j] > thresh else \"black\")\n",
    "\n",
    "    plt.tight_layout()\n",
    "    plt.ylabel('True label')\n",
    "    plt.xlabel('Predicted label')\n",
    "\n",
    "'''\n",
    "CONFUSIOM MATRIX FOR BASE CASE\n",
    "'''\n",
    "y_base_pred = y_test.copy()\n",
    "y_base_pred[:] = le.transform(['HOME_WIN'])\n",
    "cnf_base_case_matrix = confusion_matrix(y_test, y_base_pred)\n",
    "\n",
    "'''\n",
    "CONFUSIOM MATRIX FOR ADABOOST\n",
    "'''\n",
    "y_pred = clf_C.predict(X_test)\n",
    "cnf_matrix_adaboost = confusion_matrix(y_test, y_pred)\n",
    "np.set_printoptions(precision=2)\n",
    "\n",
    "\n",
    "CLASSES_NAME = le.inverse_transform([0,1,2])\n",
    "\n",
    "print \"******************************************************************\"\n",
    "print \"Confusion matrix for base case\"\n",
    "plt.figure()\n",
    "plot_confusion_matrix(cnf_base_case_matrix, classes=CLASSES_NAME, normalize=True,\n",
    "                      title='Normalized confusion matrix base case')\n",
    "\n",
    "print \"******************************************************************\"\n",
    "print \"Confusion matrix for AdaBoost classifier\"\n",
    "plt.figure()\n",
    "plot_confusion_matrix(cnf_matrix_adaboost, classes=CLASSES_NAME, normalize=True,\n",
    "                      title='Normalized confusion matrix AdaBoost')\n",
    "\n"
   ]
  },
  {
   "cell_type": "markdown",
   "metadata": {},
   "source": [
    "## Some observations based on best classifier's confusion matrix\n",
    "### Home Wins\n",
    "Based on the confusion matrix for the best classifier, it is pity good at predicting home wins. Through statistics in the section above, home wins occur for 46% of the time; and if that's a punt people take on statistics; so predicting 83% is really good.\n",
    "\n",
    "### Away Wins\n",
    "Away wins statistically occur 29% of the time, my model predicts the correct result for an away win 50% of the time.\n",
    "\n",
    "### I suck at predicting draws..\n",
    "\n",
    "As seen in the confusion matrix for my best classifier, AdaBoost; the model is terrible at predicting draws. Lets consider the accuracy of the model when we do not consider drawn matches."
   ]
  },
  {
   "cell_type": "code",
   "execution_count": 15,
   "metadata": {},
   "outputs": [
    {
     "name": "stdout",
     "output_type": "stream",
     "text": [
      "Considering data without any draws..\n",
      "Training set has 12771 samples.\n",
      "Testing set has 3193 samples.\n",
      "GaussianNB trained on 127 samples.\n",
      "GaussianNB trained on 1277 samples.\n",
      "GaussianNB trained on 12771 samples.\n",
      "AdaBoostClassifier trained on 127 samples.\n",
      "AdaBoostClassifier trained on 1277 samples.\n",
      "AdaBoostClassifier trained on 12771 samples.\n"
     ]
    },
    {
     "data": {
      "image/png": "[encoded data removed]",
      "text/plain": [
       "<matplotlib.figure.Figure at 0x1123bc6d0>"
      ]
     },
     "metadata": {},
     "output_type": "display_data"
    }
   ],
   "source": [
    "# Import train_test_split\n",
    "print \"Considering data without any draws..\"\n",
    "from sklearn.cross_validation import train_test_split\n",
    "\n",
    "# Split the 'features' and 'income' data into training and testing sets\n",
    "X_train_draw, X_test_draw, y_train_draw, y_test_draw = train_test_split(final_all_features_no_draws, \n",
    "                                                    transformed_labels_no_draws, \n",
    "                                                    test_size = 0.2, \n",
    "                                                    random_state = 0)\n",
    "\n",
    "# Show the results of the split\n",
    "print \"Training set has {} samples.\".format(X_train_draw.shape[0])\n",
    "print \"Testing set has {} samples.\".format(X_test_draw.shape[0])\n",
    "\n",
    "samples_100 = len(y_train_draw)\n",
    "samples_10 = int(.10 * len(y_train_draw))\n",
    "samples_1 = int(.01 * len(y_train_draw))\n",
    "# Collect results on the learners\n",
    "results = {}\n",
    "for clf in [clf_A, clf_C]:\n",
    "    clf_name = clf.__class__.__name__\n",
    "    results[clf_name] = {}\n",
    "    for i, samples in enumerate([samples_1, samples_10, samples_100]):\n",
    "        results[clf_name][i] = train_predict(clf, samples, X_train_draw, y_train_draw, X_test_draw, y_test_draw)\n",
    "# Run metrics visualization for the three supervised learning models chosen\n",
    "DUMMY_BASE_ACCURACY = 0.46\n",
    "DUMMY_BASE_F_SCORE = 0.1\n",
    "vs.evaluate(results, DUMMY_BASE_ACCURACY, DUMMY_BASE_F_SCORE)"
   ]
  },
  {
   "cell_type": "markdown",
   "metadata": {},
   "source": [
    "### Confusion Matrix for no draws"
   ]
  },
  {
   "cell_type": "code",
   "execution_count": 16,
   "metadata": {},
   "outputs": [
    {
     "name": "stdout",
     "output_type": "stream",
     "text": [
      "{0: {'pred_time': 0.4015510082244873, 'f_test': 0.59736773503174811, 'train_time': 2.0519959926605225, 'acc_train': 0.79000000000000004, 'acc_test': 0.5981835264641403, 'f_train': 0.78833700238488347}, 1: {'pred_time': 0.40519118309020996, 'f_test': 0.6739015540581087, 'train_time': 3.1057519912719727, 'acc_train': 0.90000000000000002, 'acc_test': 0.67804572502348892, 'f_train': 0.89949702508740714}, 2: {'pred_time': 0.46770405769348145, 'f_test': 0.72204324061641578, 'train_time': 13.824700832366943, 'acc_train': 0.78333333333333333, 'acc_test': 0.7300344503601629, 'f_train': 0.7789410626744927}}\n",
      "******************************************************************\n",
      "Confusion matrix for base case\n",
      "Normalized confusion matrix\n",
      "[[ 0.  1.]\n",
      " [ 0.  1.]]\n",
      "******************************************************************\n",
      "Confusion matrix for AdaBoost classifier\n",
      "Normalized confusion matrix\n",
      "[[ 0.53  0.47]\n",
      " [ 0.15  0.85]]\n"
     ]
    },
    {
     "data": {
      "image/png": "[encoded data removed]",
      "text/plain": [
       "<matplotlib.figure.Figure at 0x11271c250>"
      ]
     },
     "metadata": {},
     "output_type": "display_data"
    },
    {
     "data": {
      "image/png": "[encoded data removed]",
      "text/plain": [
       "<matplotlib.figure.Figure at 0x11270c790>"
      ]
     },
     "metadata": {},
     "output_type": "display_data"
    }
   ],
   "source": [
    "print results['AdaBoostClassifier']\n",
    "'''\n",
    "CONFUSIOM MATRIX FOR BASE CASE\n",
    "'''\n",
    "y_base_pred = y_test_draw.copy()\n",
    "y_base_pred[:] = le_draw.transform(['HOME_WIN'])\n",
    "cnf_base_case_matrix_no_draws = confusion_matrix(y_test_draw, y_base_pred)\n",
    "\n",
    "'''\n",
    "CONFUSIOM MATRIX FOR ADABOOST\n",
    "'''\n",
    "y_pred = clf_C.predict(X_test_draw)\n",
    "cnf_matrix_adaboost_no_draws = confusion_matrix(y_test_draw, y_pred)\n",
    "np.set_printoptions(precision=2)\n",
    "\n",
    "\n",
    "CLASSES_NAME = le_draw.inverse_transform([0,1])\n",
    "\n",
    "print \"******************************************************************\"\n",
    "print \"Confusion matrix for base case\"\n",
    "plt.figure()\n",
    "plot_confusion_matrix(cnf_base_case_matrix_no_draws, classes=CLASSES_NAME, normalize=True,\n",
    "                      title='Normalized confusion matrix base case')\n",
    "\n",
    "print \"******************************************************************\"\n",
    "print \"Confusion matrix for AdaBoost classifier\"\n",
    "plt.figure()\n",
    "plot_confusion_matrix(cnf_matrix_adaboost_no_draws, classes=CLASSES_NAME, normalize=True,\n",
    "                      title='Normalized confusion matrix AdaBoost')\n"
   ]
  },
  {
   "cell_type": "markdown",
   "metadata": {},
   "source": [
    "## TODO: See here and get ideas!\n",
    "\n",
    "## TODO: Apply PCA\n",
    "\n",
    "## Try getting some team features and see if it helps. If nothing, gives talking points.\n",
    "https://www.kaggle.com/harvinderwazir/match-outcome-prediction-in-football/notebook"
   ]
  },
  {
   "cell_type": "code",
   "execution_count": null,
   "metadata": {
    "collapsed": true
   },
   "outputs": [],
   "source": []
  },
  {
   "cell_type": "markdown",
   "metadata": {},
   "source": [
    "## Feature Importance for various models : based on the Charity ML project"
   ]
  },
  {
   "cell_type": "code",
   "execution_count": null,
   "metadata": {
    "collapsed": true
   },
   "outputs": [],
   "source": []
  },
  {
   "cell_type": "markdown",
   "metadata": {},
   "source": [
    "### Notes for report\n",
    "The Holy Grail... ... is obviously to predict the outcome of the game. The bookies use 3 classes (Home Win, Draw, Away Win). They get it right about 53% of the time. This is also what I've achieved so far using my own SVM. Though it may sound high for such a random sport game, you've got to know that the home team wins about 46% of the time. So the base case (constantly predicting Home Win) has indeed 46% precision."
   ]
  },
  {
   "cell_type": "markdown",
   "metadata": {},
   "source": [
    "## Prediction Results and Optimizations\n",
    "\n",
    "### Bookkeeper Odds, Compare vs them\n",
    "\n",
    "### Accuracy across different countries, different seasona"
   ]
  },
  {
   "cell_type": "markdown",
   "metadata": {},
   "source": [
    "## Conclusion"
   ]
  }
 ],
 "metadata": {
  "kernelspec": {
   "display_name": "Python 2",
   "language": "python",
   "name": "python2"
  },
  "language_info": {
   "codemirror_mode": {
    "name": "ipython",
    "version": 2
   },
   "file_extension": ".py",
   "mimetype": "text/x-python",
   "name": "python",
   "nbconvert_exporter": "python",
   "pygments_lexer": "ipython2",
   "version": "2.7.13"
  }
 },
 "nbformat": 4,
 "nbformat_minor": 2
}
